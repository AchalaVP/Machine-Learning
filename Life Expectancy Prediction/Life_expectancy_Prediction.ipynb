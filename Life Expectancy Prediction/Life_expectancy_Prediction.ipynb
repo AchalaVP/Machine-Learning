{
  "cells": [
    {
      "cell_type": "markdown",
      "metadata": {
        "id": "3389bdda"
      },
      "source": [
        "# WHO : Life Expectancy Project"
      ],
      "id": "3389bdda"
    },
    {
      "cell_type": "markdown",
      "metadata": {
        "id": "9af9dfa5"
      },
      "source": [
        "# Importing Libraries"
      ],
      "id": "9af9dfa5"
    },
    {
      "cell_type": "code",
      "execution_count": null,
      "metadata": {
        "id": "5c6a5e42"
      },
      "outputs": [],
      "source": [
        "import os\n",
        "\n",
        "\n",
        "import pandas as pd\n",
        "#pd.set_option('display.max_column',None)\n",
        "#pd.set_option('display.max_rows', None)\n",
        "\n",
        "import warnings\n",
        "warnings.filterwarnings('ignore')\n",
        "\n",
        "import math\n",
        "import numpy as np\n",
        "import matplotlib.pyplot as plt\n",
        "import seaborn as sns\n",
        "from scipy import stats\n",
        "import statsmodels.api as sm\n",
        "import statsmodels.formula.api as smf\n",
        "from statsmodels.formula.api import ols\n",
        "from statsmodels.stats.multicomp import pairwise_tukeyhsd\n",
        "from scipy.stats import chi2, chi2_contingency\n",
        "from statsmodels.stats.multicomp import pairwise_tukeyhsd\n",
        "from scipy.stats import pearsonr\n",
        "\n",
        "\n",
        "from sklearn.linear_model import Lasso, LassoCV, Ridge, RidgeCV\n",
        "from sklearn.model_selection import cross_val_predict, train_test_split\n",
        "from statsmodels.stats.outliers_influence import variance_inflation_factor\n",
        "from sklearn.preprocessing import StandardScaler\n",
        "from sklearn.linear_model import SGDRegressor\n",
        "from sklearn.metrics import mean_squared_error\n",
        "\n",
        "import tensorflow as tf\n",
        "from keras import Sequential\n",
        "from keras.layers import Dense"
      ],
      "id": "5c6a5e42"
    },
    {
      "cell_type": "code",
      "execution_count": null,
      "metadata": {
        "colab": {
          "base_uri": "https://localhost:8080/",
          "height": 351
        },
        "id": "7367730f",
        "outputId": "22fbb459-f89b-4933-8a4a-88f502185166",
        "scrolled": true
      },
      "outputs": [
        {
          "output_type": "execute_result",
          "data": {
            "text/plain": [
              "       Country  Year      Status  Life expectancy   Adult Mortality  \\\n",
              "0  Afghanistan  2015  Developing              65.0            263.0   \n",
              "1  Afghanistan  2014  Developing              59.9            271.0   \n",
              "2  Afghanistan  2013  Developing              59.9            268.0   \n",
              "3  Afghanistan  2012  Developing              59.5            272.0   \n",
              "4  Afghanistan  2011  Developing              59.2            275.0   \n",
              "\n",
              "   infant deaths  Alcohol  percentage expenditure  Hepatitis B  Measles   ...  \\\n",
              "0             62     0.01               71.279624         65.0      1154  ...   \n",
              "1             64     0.01               73.523582         62.0       492  ...   \n",
              "2             66     0.01               73.219243         64.0       430  ...   \n",
              "3             69     0.01               78.184215         67.0      2787  ...   \n",
              "4             71     0.01                7.097109         68.0      3013  ...   \n",
              "\n",
              "   Polio  Total expenditure  Diphtheria    HIV/AIDS         GDP  Population  \\\n",
              "0    6.0               8.16         65.0        0.1  584.259210  33736494.0   \n",
              "1   58.0               8.18         62.0        0.1  612.696514    327582.0   \n",
              "2   62.0               8.13         64.0        0.1  631.744976  31731688.0   \n",
              "3   67.0               8.52         67.0        0.1  669.959000   3696958.0   \n",
              "4   68.0               7.87         68.0        0.1   63.537231   2978599.0   \n",
              "\n",
              "    thinness  1-19 years   thinness 5-9 years  \\\n",
              "0                   17.2                 17.3   \n",
              "1                   17.5                 17.5   \n",
              "2                   17.7                 17.7   \n",
              "3                   17.9                 18.0   \n",
              "4                   18.2                 18.2   \n",
              "\n",
              "   Income composition of resources  Schooling  \n",
              "0                            0.479       10.1  \n",
              "1                            0.476       10.0  \n",
              "2                            0.470        9.9  \n",
              "3                            0.463        9.8  \n",
              "4                            0.454        9.5  \n",
              "\n",
              "[5 rows x 22 columns]"
            ],
            "text/html": [
              "\n",
              "  <div id=\"df-8cbf148f-128e-46f9-90db-b8859e818654\">\n",
              "    <div class=\"colab-df-container\">\n",
              "      <div>\n",
              "<style scoped>\n",
              "    .dataframe tbody tr th:only-of-type {\n",
              "        vertical-align: middle;\n",
              "    }\n",
              "\n",
              "    .dataframe tbody tr th {\n",
              "        vertical-align: top;\n",
              "    }\n",
              "\n",
              "    .dataframe thead th {\n",
              "        text-align: right;\n",
              "    }\n",
              "</style>\n",
              "<table border=\"1\" class=\"dataframe\">\n",
              "  <thead>\n",
              "    <tr style=\"text-align: right;\">\n",
              "      <th></th>\n",
              "      <th>Country</th>\n",
              "      <th>Year</th>\n",
              "      <th>Status</th>\n",
              "      <th>Life expectancy</th>\n",
              "      <th>Adult Mortality</th>\n",
              "      <th>infant deaths</th>\n",
              "      <th>Alcohol</th>\n",
              "      <th>percentage expenditure</th>\n",
              "      <th>Hepatitis B</th>\n",
              "      <th>Measles</th>\n",
              "      <th>...</th>\n",
              "      <th>Polio</th>\n",
              "      <th>Total expenditure</th>\n",
              "      <th>Diphtheria</th>\n",
              "      <th>HIV/AIDS</th>\n",
              "      <th>GDP</th>\n",
              "      <th>Population</th>\n",
              "      <th>thinness  1-19 years</th>\n",
              "      <th>thinness 5-9 years</th>\n",
              "      <th>Income composition of resources</th>\n",
              "      <th>Schooling</th>\n",
              "    </tr>\n",
              "  </thead>\n",
              "  <tbody>\n",
              "    <tr>\n",
              "      <th>0</th>\n",
              "      <td>Afghanistan</td>\n",
              "      <td>2015</td>\n",
              "      <td>Developing</td>\n",
              "      <td>65.0</td>\n",
              "      <td>263.0</td>\n",
              "      <td>62</td>\n",
              "      <td>0.01</td>\n",
              "      <td>71.279624</td>\n",
              "      <td>65.0</td>\n",
              "      <td>1154</td>\n",
              "      <td>...</td>\n",
              "      <td>6.0</td>\n",
              "      <td>8.16</td>\n",
              "      <td>65.0</td>\n",
              "      <td>0.1</td>\n",
              "      <td>584.259210</td>\n",
              "      <td>33736494.0</td>\n",
              "      <td>17.2</td>\n",
              "      <td>17.3</td>\n",
              "      <td>0.479</td>\n",
              "      <td>10.1</td>\n",
              "    </tr>\n",
              "    <tr>\n",
              "      <th>1</th>\n",
              "      <td>Afghanistan</td>\n",
              "      <td>2014</td>\n",
              "      <td>Developing</td>\n",
              "      <td>59.9</td>\n",
              "      <td>271.0</td>\n",
              "      <td>64</td>\n",
              "      <td>0.01</td>\n",
              "      <td>73.523582</td>\n",
              "      <td>62.0</td>\n",
              "      <td>492</td>\n",
              "      <td>...</td>\n",
              "      <td>58.0</td>\n",
              "      <td>8.18</td>\n",
              "      <td>62.0</td>\n",
              "      <td>0.1</td>\n",
              "      <td>612.696514</td>\n",
              "      <td>327582.0</td>\n",
              "      <td>17.5</td>\n",
              "      <td>17.5</td>\n",
              "      <td>0.476</td>\n",
              "      <td>10.0</td>\n",
              "    </tr>\n",
              "    <tr>\n",
              "      <th>2</th>\n",
              "      <td>Afghanistan</td>\n",
              "      <td>2013</td>\n",
              "      <td>Developing</td>\n",
              "      <td>59.9</td>\n",
              "      <td>268.0</td>\n",
              "      <td>66</td>\n",
              "      <td>0.01</td>\n",
              "      <td>73.219243</td>\n",
              "      <td>64.0</td>\n",
              "      <td>430</td>\n",
              "      <td>...</td>\n",
              "      <td>62.0</td>\n",
              "      <td>8.13</td>\n",
              "      <td>64.0</td>\n",
              "      <td>0.1</td>\n",
              "      <td>631.744976</td>\n",
              "      <td>31731688.0</td>\n",
              "      <td>17.7</td>\n",
              "      <td>17.7</td>\n",
              "      <td>0.470</td>\n",
              "      <td>9.9</td>\n",
              "    </tr>\n",
              "    <tr>\n",
              "      <th>3</th>\n",
              "      <td>Afghanistan</td>\n",
              "      <td>2012</td>\n",
              "      <td>Developing</td>\n",
              "      <td>59.5</td>\n",
              "      <td>272.0</td>\n",
              "      <td>69</td>\n",
              "      <td>0.01</td>\n",
              "      <td>78.184215</td>\n",
              "      <td>67.0</td>\n",
              "      <td>2787</td>\n",
              "      <td>...</td>\n",
              "      <td>67.0</td>\n",
              "      <td>8.52</td>\n",
              "      <td>67.0</td>\n",
              "      <td>0.1</td>\n",
              "      <td>669.959000</td>\n",
              "      <td>3696958.0</td>\n",
              "      <td>17.9</td>\n",
              "      <td>18.0</td>\n",
              "      <td>0.463</td>\n",
              "      <td>9.8</td>\n",
              "    </tr>\n",
              "    <tr>\n",
              "      <th>4</th>\n",
              "      <td>Afghanistan</td>\n",
              "      <td>2011</td>\n",
              "      <td>Developing</td>\n",
              "      <td>59.2</td>\n",
              "      <td>275.0</td>\n",
              "      <td>71</td>\n",
              "      <td>0.01</td>\n",
              "      <td>7.097109</td>\n",
              "      <td>68.0</td>\n",
              "      <td>3013</td>\n",
              "      <td>...</td>\n",
              "      <td>68.0</td>\n",
              "      <td>7.87</td>\n",
              "      <td>68.0</td>\n",
              "      <td>0.1</td>\n",
              "      <td>63.537231</td>\n",
              "      <td>2978599.0</td>\n",
              "      <td>18.2</td>\n",
              "      <td>18.2</td>\n",
              "      <td>0.454</td>\n",
              "      <td>9.5</td>\n",
              "    </tr>\n",
              "  </tbody>\n",
              "</table>\n",
              "<p>5 rows × 22 columns</p>\n",
              "</div>\n",
              "      <button class=\"colab-df-convert\" onclick=\"convertToInteractive('df-8cbf148f-128e-46f9-90db-b8859e818654')\"\n",
              "              title=\"Convert this dataframe to an interactive table.\"\n",
              "              style=\"display:none;\">\n",
              "        \n",
              "  <svg xmlns=\"http://www.w3.org/2000/svg\" height=\"24px\"viewBox=\"0 0 24 24\"\n",
              "       width=\"24px\">\n",
              "    <path d=\"M0 0h24v24H0V0z\" fill=\"none\"/>\n",
              "    <path d=\"M18.56 5.44l.94 2.06.94-2.06 2.06-.94-2.06-.94-.94-2.06-.94 2.06-2.06.94zm-11 1L8.5 8.5l.94-2.06 2.06-.94-2.06-.94L8.5 2.5l-.94 2.06-2.06.94zm10 10l.94 2.06.94-2.06 2.06-.94-2.06-.94-.94-2.06-.94 2.06-2.06.94z\"/><path d=\"M17.41 7.96l-1.37-1.37c-.4-.4-.92-.59-1.43-.59-.52 0-1.04.2-1.43.59L10.3 9.45l-7.72 7.72c-.78.78-.78 2.05 0 2.83L4 21.41c.39.39.9.59 1.41.59.51 0 1.02-.2 1.41-.59l7.78-7.78 2.81-2.81c.8-.78.8-2.07 0-2.86zM5.41 20L4 18.59l7.72-7.72 1.47 1.35L5.41 20z\"/>\n",
              "  </svg>\n",
              "      </button>\n",
              "      \n",
              "  <style>\n",
              "    .colab-df-container {\n",
              "      display:flex;\n",
              "      flex-wrap:wrap;\n",
              "      gap: 12px;\n",
              "    }\n",
              "\n",
              "    .colab-df-convert {\n",
              "      background-color: #E8F0FE;\n",
              "      border: none;\n",
              "      border-radius: 50%;\n",
              "      cursor: pointer;\n",
              "      display: none;\n",
              "      fill: #1967D2;\n",
              "      height: 32px;\n",
              "      padding: 0 0 0 0;\n",
              "      width: 32px;\n",
              "    }\n",
              "\n",
              "    .colab-df-convert:hover {\n",
              "      background-color: #E2EBFA;\n",
              "      box-shadow: 0px 1px 2px rgba(60, 64, 67, 0.3), 0px 1px 3px 1px rgba(60, 64, 67, 0.15);\n",
              "      fill: #174EA6;\n",
              "    }\n",
              "\n",
              "    [theme=dark] .colab-df-convert {\n",
              "      background-color: #3B4455;\n",
              "      fill: #D2E3FC;\n",
              "    }\n",
              "\n",
              "    [theme=dark] .colab-df-convert:hover {\n",
              "      background-color: #434B5C;\n",
              "      box-shadow: 0px 1px 3px 1px rgba(0, 0, 0, 0.15);\n",
              "      filter: drop-shadow(0px 1px 2px rgba(0, 0, 0, 0.3));\n",
              "      fill: #FFFFFF;\n",
              "    }\n",
              "  </style>\n",
              "\n",
              "      <script>\n",
              "        const buttonEl =\n",
              "          document.querySelector('#df-8cbf148f-128e-46f9-90db-b8859e818654 button.colab-df-convert');\n",
              "        buttonEl.style.display =\n",
              "          google.colab.kernel.accessAllowed ? 'block' : 'none';\n",
              "\n",
              "        async function convertToInteractive(key) {\n",
              "          const element = document.querySelector('#df-8cbf148f-128e-46f9-90db-b8859e818654');\n",
              "          const dataTable =\n",
              "            await google.colab.kernel.invokeFunction('convertToInteractive',\n",
              "                                                     [key], {});\n",
              "          if (!dataTable) return;\n",
              "\n",
              "          const docLinkHtml = 'Like what you see? Visit the ' +\n",
              "            '<a target=\"_blank\" href=https://colab.research.google.com/notebooks/data_table.ipynb>data table notebook</a>'\n",
              "            + ' to learn more about interactive tables.';\n",
              "          element.innerHTML = '';\n",
              "          dataTable['output_type'] = 'display_data';\n",
              "          await google.colab.output.renderOutput(dataTable, element);\n",
              "          const docLink = document.createElement('div');\n",
              "          docLink.innerHTML = docLinkHtml;\n",
              "          element.appendChild(docLink);\n",
              "        }\n",
              "      </script>\n",
              "    </div>\n",
              "  </div>\n",
              "  "
            ]
          },
          "metadata": {},
          "execution_count": 2
        }
      ],
      "source": [
        "df = pd.read_csv('Life Expectancy Data.csv')\n",
        "df.head()"
      ],
      "id": "7367730f"
    },
    {
      "cell_type": "markdown",
      "metadata": {
        "id": "ed051e6e"
      },
      "source": [
        "### Understanding The data"
      ],
      "id": "ed051e6e"
    },
    {
      "cell_type": "code",
      "execution_count": null,
      "metadata": {
        "colab": {
          "base_uri": "https://localhost:8080/"
        },
        "id": "e6737ab1",
        "outputId": "1c375fbd-7317-4728-bc82-911275ff1531",
        "scrolled": true
      },
      "outputs": [
        {
          "output_type": "stream",
          "name": "stdout",
          "text": [
            "<class 'pandas.core.frame.DataFrame'>\n",
            "RangeIndex: 2938 entries, 0 to 2937\n",
            "Data columns (total 22 columns):\n",
            " #   Column                           Non-Null Count  Dtype  \n",
            "---  ------                           --------------  -----  \n",
            " 0   Country                          2938 non-null   object \n",
            " 1   Year                             2938 non-null   int64  \n",
            " 2   Status                           2938 non-null   object \n",
            " 3   Life expectancy                  2928 non-null   float64\n",
            " 4   Adult Mortality                  2928 non-null   float64\n",
            " 5   infant deaths                    2938 non-null   int64  \n",
            " 6   Alcohol                          2744 non-null   float64\n",
            " 7   percentage expenditure           2938 non-null   float64\n",
            " 8   Hepatitis B                      2385 non-null   float64\n",
            " 9   Measles                          2938 non-null   int64  \n",
            " 10   BMI                             2904 non-null   float64\n",
            " 11  under-five deaths                2938 non-null   int64  \n",
            " 12  Polio                            2919 non-null   float64\n",
            " 13  Total expenditure                2712 non-null   float64\n",
            " 14  Diphtheria                       2919 non-null   float64\n",
            " 15   HIV/AIDS                        2938 non-null   float64\n",
            " 16  GDP                              2490 non-null   float64\n",
            " 17  Population                       2286 non-null   float64\n",
            " 18   thinness  1-19 years            2904 non-null   float64\n",
            " 19   thinness 5-9 years              2904 non-null   float64\n",
            " 20  Income composition of resources  2771 non-null   float64\n",
            " 21  Schooling                        2775 non-null   float64\n",
            "dtypes: float64(16), int64(4), object(2)\n",
            "memory usage: 505.1+ KB\n"
          ]
        }
      ],
      "source": [
        "df.info()"
      ],
      "id": "e6737ab1"
    },
    {
      "cell_type": "code",
      "execution_count": null,
      "metadata": {
        "colab": {
          "base_uri": "https://localhost:8080/",
          "height": 416
        },
        "id": "de93b50a",
        "outputId": "919710bf-a2a4-4cb3-fca3-07bc636403d2"
      },
      "outputs": [
        {
          "output_type": "execute_result",
          "data": {
            "text/plain": [
              "              Year  Life expectancy   Adult Mortality  infant deaths  \\\n",
              "count  2938.000000       2928.000000      2928.000000    2938.000000   \n",
              "mean   2007.518720         69.224932       164.796448      30.303948   \n",
              "std       4.613841          9.523867       124.292079     117.926501   \n",
              "min    2000.000000         36.300000         1.000000       0.000000   \n",
              "25%    2004.000000         63.100000        74.000000       0.000000   \n",
              "50%    2008.000000         72.100000       144.000000       3.000000   \n",
              "75%    2012.000000         75.700000       228.000000      22.000000   \n",
              "max    2015.000000         89.000000       723.000000    1800.000000   \n",
              "\n",
              "           Alcohol  percentage expenditure  Hepatitis B       Measles   \\\n",
              "count  2744.000000             2938.000000  2385.000000    2938.000000   \n",
              "mean      4.602861              738.251295    80.940461    2419.592240   \n",
              "std       4.052413             1987.914858    25.070016   11467.272489   \n",
              "min       0.010000                0.000000     1.000000       0.000000   \n",
              "25%       0.877500                4.685343    77.000000       0.000000   \n",
              "50%       3.755000               64.912906    92.000000      17.000000   \n",
              "75%       7.702500              441.534144    97.000000     360.250000   \n",
              "max      17.870000            19479.911610    99.000000  212183.000000   \n",
              "\n",
              "              BMI   under-five deaths         Polio  Total expenditure  \\\n",
              "count  2904.000000         2938.000000  2919.000000         2712.00000   \n",
              "mean     38.321247           42.035739    82.550188            5.93819   \n",
              "std      20.044034          160.445548    23.428046            2.49832   \n",
              "min       1.000000            0.000000     3.000000            0.37000   \n",
              "25%      19.300000            0.000000    78.000000            4.26000   \n",
              "50%      43.500000            4.000000    93.000000            5.75500   \n",
              "75%      56.200000           28.000000    97.000000            7.49250   \n",
              "max      87.300000         2500.000000    99.000000           17.60000   \n",
              "\n",
              "       Diphtheria      HIV/AIDS            GDP    Population  \\\n",
              "count  2919.000000  2938.000000    2490.000000  2.286000e+03   \n",
              "mean     82.324084     1.742103    7483.158469  1.275338e+07   \n",
              "std      23.716912     5.077785   14270.169342  6.101210e+07   \n",
              "min       2.000000     0.100000       1.681350  3.400000e+01   \n",
              "25%      78.000000     0.100000     463.935626  1.957932e+05   \n",
              "50%      93.000000     0.100000    1766.947595  1.386542e+06   \n",
              "75%      97.000000     0.800000    5910.806335  7.420359e+06   \n",
              "max      99.000000    50.600000  119172.741800  1.293859e+09   \n",
              "\n",
              "        thinness  1-19 years   thinness 5-9 years  \\\n",
              "count            2904.000000          2904.000000   \n",
              "mean                4.839704             4.870317   \n",
              "std                 4.420195             4.508882   \n",
              "min                 0.100000             0.100000   \n",
              "25%                 1.600000             1.500000   \n",
              "50%                 3.300000             3.300000   \n",
              "75%                 7.200000             7.200000   \n",
              "max                27.700000            28.600000   \n",
              "\n",
              "       Income composition of resources    Schooling  \n",
              "count                      2771.000000  2775.000000  \n",
              "mean                          0.627551    11.992793  \n",
              "std                           0.210904     3.358920  \n",
              "min                           0.000000     0.000000  \n",
              "25%                           0.493000    10.100000  \n",
              "50%                           0.677000    12.300000  \n",
              "75%                           0.779000    14.300000  \n",
              "max                           0.948000    20.700000  "
            ],
            "text/html": [
              "\n",
              "  <div id=\"df-9341254c-e7e5-4b3f-a371-5daf02f881a9\">\n",
              "    <div class=\"colab-df-container\">\n",
              "      <div>\n",
              "<style scoped>\n",
              "    .dataframe tbody tr th:only-of-type {\n",
              "        vertical-align: middle;\n",
              "    }\n",
              "\n",
              "    .dataframe tbody tr th {\n",
              "        vertical-align: top;\n",
              "    }\n",
              "\n",
              "    .dataframe thead th {\n",
              "        text-align: right;\n",
              "    }\n",
              "</style>\n",
              "<table border=\"1\" class=\"dataframe\">\n",
              "  <thead>\n",
              "    <tr style=\"text-align: right;\">\n",
              "      <th></th>\n",
              "      <th>Year</th>\n",
              "      <th>Life expectancy</th>\n",
              "      <th>Adult Mortality</th>\n",
              "      <th>infant deaths</th>\n",
              "      <th>Alcohol</th>\n",
              "      <th>percentage expenditure</th>\n",
              "      <th>Hepatitis B</th>\n",
              "      <th>Measles</th>\n",
              "      <th>BMI</th>\n",
              "      <th>under-five deaths</th>\n",
              "      <th>Polio</th>\n",
              "      <th>Total expenditure</th>\n",
              "      <th>Diphtheria</th>\n",
              "      <th>HIV/AIDS</th>\n",
              "      <th>GDP</th>\n",
              "      <th>Population</th>\n",
              "      <th>thinness  1-19 years</th>\n",
              "      <th>thinness 5-9 years</th>\n",
              "      <th>Income composition of resources</th>\n",
              "      <th>Schooling</th>\n",
              "    </tr>\n",
              "  </thead>\n",
              "  <tbody>\n",
              "    <tr>\n",
              "      <th>count</th>\n",
              "      <td>2938.000000</td>\n",
              "      <td>2928.000000</td>\n",
              "      <td>2928.000000</td>\n",
              "      <td>2938.000000</td>\n",
              "      <td>2744.000000</td>\n",
              "      <td>2938.000000</td>\n",
              "      <td>2385.000000</td>\n",
              "      <td>2938.000000</td>\n",
              "      <td>2904.000000</td>\n",
              "      <td>2938.000000</td>\n",
              "      <td>2919.000000</td>\n",
              "      <td>2712.00000</td>\n",
              "      <td>2919.000000</td>\n",
              "      <td>2938.000000</td>\n",
              "      <td>2490.000000</td>\n",
              "      <td>2.286000e+03</td>\n",
              "      <td>2904.000000</td>\n",
              "      <td>2904.000000</td>\n",
              "      <td>2771.000000</td>\n",
              "      <td>2775.000000</td>\n",
              "    </tr>\n",
              "    <tr>\n",
              "      <th>mean</th>\n",
              "      <td>2007.518720</td>\n",
              "      <td>69.224932</td>\n",
              "      <td>164.796448</td>\n",
              "      <td>30.303948</td>\n",
              "      <td>4.602861</td>\n",
              "      <td>738.251295</td>\n",
              "      <td>80.940461</td>\n",
              "      <td>2419.592240</td>\n",
              "      <td>38.321247</td>\n",
              "      <td>42.035739</td>\n",
              "      <td>82.550188</td>\n",
              "      <td>5.93819</td>\n",
              "      <td>82.324084</td>\n",
              "      <td>1.742103</td>\n",
              "      <td>7483.158469</td>\n",
              "      <td>1.275338e+07</td>\n",
              "      <td>4.839704</td>\n",
              "      <td>4.870317</td>\n",
              "      <td>0.627551</td>\n",
              "      <td>11.992793</td>\n",
              "    </tr>\n",
              "    <tr>\n",
              "      <th>std</th>\n",
              "      <td>4.613841</td>\n",
              "      <td>9.523867</td>\n",
              "      <td>124.292079</td>\n",
              "      <td>117.926501</td>\n",
              "      <td>4.052413</td>\n",
              "      <td>1987.914858</td>\n",
              "      <td>25.070016</td>\n",
              "      <td>11467.272489</td>\n",
              "      <td>20.044034</td>\n",
              "      <td>160.445548</td>\n",
              "      <td>23.428046</td>\n",
              "      <td>2.49832</td>\n",
              "      <td>23.716912</td>\n",
              "      <td>5.077785</td>\n",
              "      <td>14270.169342</td>\n",
              "      <td>6.101210e+07</td>\n",
              "      <td>4.420195</td>\n",
              "      <td>4.508882</td>\n",
              "      <td>0.210904</td>\n",
              "      <td>3.358920</td>\n",
              "    </tr>\n",
              "    <tr>\n",
              "      <th>min</th>\n",
              "      <td>2000.000000</td>\n",
              "      <td>36.300000</td>\n",
              "      <td>1.000000</td>\n",
              "      <td>0.000000</td>\n",
              "      <td>0.010000</td>\n",
              "      <td>0.000000</td>\n",
              "      <td>1.000000</td>\n",
              "      <td>0.000000</td>\n",
              "      <td>1.000000</td>\n",
              "      <td>0.000000</td>\n",
              "      <td>3.000000</td>\n",
              "      <td>0.37000</td>\n",
              "      <td>2.000000</td>\n",
              "      <td>0.100000</td>\n",
              "      <td>1.681350</td>\n",
              "      <td>3.400000e+01</td>\n",
              "      <td>0.100000</td>\n",
              "      <td>0.100000</td>\n",
              "      <td>0.000000</td>\n",
              "      <td>0.000000</td>\n",
              "    </tr>\n",
              "    <tr>\n",
              "      <th>25%</th>\n",
              "      <td>2004.000000</td>\n",
              "      <td>63.100000</td>\n",
              "      <td>74.000000</td>\n",
              "      <td>0.000000</td>\n",
              "      <td>0.877500</td>\n",
              "      <td>4.685343</td>\n",
              "      <td>77.000000</td>\n",
              "      <td>0.000000</td>\n",
              "      <td>19.300000</td>\n",
              "      <td>0.000000</td>\n",
              "      <td>78.000000</td>\n",
              "      <td>4.26000</td>\n",
              "      <td>78.000000</td>\n",
              "      <td>0.100000</td>\n",
              "      <td>463.935626</td>\n",
              "      <td>1.957932e+05</td>\n",
              "      <td>1.600000</td>\n",
              "      <td>1.500000</td>\n",
              "      <td>0.493000</td>\n",
              "      <td>10.100000</td>\n",
              "    </tr>\n",
              "    <tr>\n",
              "      <th>50%</th>\n",
              "      <td>2008.000000</td>\n",
              "      <td>72.100000</td>\n",
              "      <td>144.000000</td>\n",
              "      <td>3.000000</td>\n",
              "      <td>3.755000</td>\n",
              "      <td>64.912906</td>\n",
              "      <td>92.000000</td>\n",
              "      <td>17.000000</td>\n",
              "      <td>43.500000</td>\n",
              "      <td>4.000000</td>\n",
              "      <td>93.000000</td>\n",
              "      <td>5.75500</td>\n",
              "      <td>93.000000</td>\n",
              "      <td>0.100000</td>\n",
              "      <td>1766.947595</td>\n",
              "      <td>1.386542e+06</td>\n",
              "      <td>3.300000</td>\n",
              "      <td>3.300000</td>\n",
              "      <td>0.677000</td>\n",
              "      <td>12.300000</td>\n",
              "    </tr>\n",
              "    <tr>\n",
              "      <th>75%</th>\n",
              "      <td>2012.000000</td>\n",
              "      <td>75.700000</td>\n",
              "      <td>228.000000</td>\n",
              "      <td>22.000000</td>\n",
              "      <td>7.702500</td>\n",
              "      <td>441.534144</td>\n",
              "      <td>97.000000</td>\n",
              "      <td>360.250000</td>\n",
              "      <td>56.200000</td>\n",
              "      <td>28.000000</td>\n",
              "      <td>97.000000</td>\n",
              "      <td>7.49250</td>\n",
              "      <td>97.000000</td>\n",
              "      <td>0.800000</td>\n",
              "      <td>5910.806335</td>\n",
              "      <td>7.420359e+06</td>\n",
              "      <td>7.200000</td>\n",
              "      <td>7.200000</td>\n",
              "      <td>0.779000</td>\n",
              "      <td>14.300000</td>\n",
              "    </tr>\n",
              "    <tr>\n",
              "      <th>max</th>\n",
              "      <td>2015.000000</td>\n",
              "      <td>89.000000</td>\n",
              "      <td>723.000000</td>\n",
              "      <td>1800.000000</td>\n",
              "      <td>17.870000</td>\n",
              "      <td>19479.911610</td>\n",
              "      <td>99.000000</td>\n",
              "      <td>212183.000000</td>\n",
              "      <td>87.300000</td>\n",
              "      <td>2500.000000</td>\n",
              "      <td>99.000000</td>\n",
              "      <td>17.60000</td>\n",
              "      <td>99.000000</td>\n",
              "      <td>50.600000</td>\n",
              "      <td>119172.741800</td>\n",
              "      <td>1.293859e+09</td>\n",
              "      <td>27.700000</td>\n",
              "      <td>28.600000</td>\n",
              "      <td>0.948000</td>\n",
              "      <td>20.700000</td>\n",
              "    </tr>\n",
              "  </tbody>\n",
              "</table>\n",
              "</div>\n",
              "      <button class=\"colab-df-convert\" onclick=\"convertToInteractive('df-9341254c-e7e5-4b3f-a371-5daf02f881a9')\"\n",
              "              title=\"Convert this dataframe to an interactive table.\"\n",
              "              style=\"display:none;\">\n",
              "        \n",
              "  <svg xmlns=\"http://www.w3.org/2000/svg\" height=\"24px\"viewBox=\"0 0 24 24\"\n",
              "       width=\"24px\">\n",
              "    <path d=\"M0 0h24v24H0V0z\" fill=\"none\"/>\n",
              "    <path d=\"M18.56 5.44l.94 2.06.94-2.06 2.06-.94-2.06-.94-.94-2.06-.94 2.06-2.06.94zm-11 1L8.5 8.5l.94-2.06 2.06-.94-2.06-.94L8.5 2.5l-.94 2.06-2.06.94zm10 10l.94 2.06.94-2.06 2.06-.94-2.06-.94-.94-2.06-.94 2.06-2.06.94z\"/><path d=\"M17.41 7.96l-1.37-1.37c-.4-.4-.92-.59-1.43-.59-.52 0-1.04.2-1.43.59L10.3 9.45l-7.72 7.72c-.78.78-.78 2.05 0 2.83L4 21.41c.39.39.9.59 1.41.59.51 0 1.02-.2 1.41-.59l7.78-7.78 2.81-2.81c.8-.78.8-2.07 0-2.86zM5.41 20L4 18.59l7.72-7.72 1.47 1.35L5.41 20z\"/>\n",
              "  </svg>\n",
              "      </button>\n",
              "      \n",
              "  <style>\n",
              "    .colab-df-container {\n",
              "      display:flex;\n",
              "      flex-wrap:wrap;\n",
              "      gap: 12px;\n",
              "    }\n",
              "\n",
              "    .colab-df-convert {\n",
              "      background-color: #E8F0FE;\n",
              "      border: none;\n",
              "      border-radius: 50%;\n",
              "      cursor: pointer;\n",
              "      display: none;\n",
              "      fill: #1967D2;\n",
              "      height: 32px;\n",
              "      padding: 0 0 0 0;\n",
              "      width: 32px;\n",
              "    }\n",
              "\n",
              "    .colab-df-convert:hover {\n",
              "      background-color: #E2EBFA;\n",
              "      box-shadow: 0px 1px 2px rgba(60, 64, 67, 0.3), 0px 1px 3px 1px rgba(60, 64, 67, 0.15);\n",
              "      fill: #174EA6;\n",
              "    }\n",
              "\n",
              "    [theme=dark] .colab-df-convert {\n",
              "      background-color: #3B4455;\n",
              "      fill: #D2E3FC;\n",
              "    }\n",
              "\n",
              "    [theme=dark] .colab-df-convert:hover {\n",
              "      background-color: #434B5C;\n",
              "      box-shadow: 0px 1px 3px 1px rgba(0, 0, 0, 0.15);\n",
              "      filter: drop-shadow(0px 1px 2px rgba(0, 0, 0, 0.3));\n",
              "      fill: #FFFFFF;\n",
              "    }\n",
              "  </style>\n",
              "\n",
              "      <script>\n",
              "        const buttonEl =\n",
              "          document.querySelector('#df-9341254c-e7e5-4b3f-a371-5daf02f881a9 button.colab-df-convert');\n",
              "        buttonEl.style.display =\n",
              "          google.colab.kernel.accessAllowed ? 'block' : 'none';\n",
              "\n",
              "        async function convertToInteractive(key) {\n",
              "          const element = document.querySelector('#df-9341254c-e7e5-4b3f-a371-5daf02f881a9');\n",
              "          const dataTable =\n",
              "            await google.colab.kernel.invokeFunction('convertToInteractive',\n",
              "                                                     [key], {});\n",
              "          if (!dataTable) return;\n",
              "\n",
              "          const docLinkHtml = 'Like what you see? Visit the ' +\n",
              "            '<a target=\"_blank\" href=https://colab.research.google.com/notebooks/data_table.ipynb>data table notebook</a>'\n",
              "            + ' to learn more about interactive tables.';\n",
              "          element.innerHTML = '';\n",
              "          dataTable['output_type'] = 'display_data';\n",
              "          await google.colab.output.renderOutput(dataTable, element);\n",
              "          const docLink = document.createElement('div');\n",
              "          docLink.innerHTML = docLinkHtml;\n",
              "          element.appendChild(docLink);\n",
              "        }\n",
              "      </script>\n",
              "    </div>\n",
              "  </div>\n",
              "  "
            ]
          },
          "metadata": {},
          "execution_count": 4
        }
      ],
      "source": [
        "df.describe()"
      ],
      "id": "de93b50a"
    },
    {
      "cell_type": "code",
      "execution_count": null,
      "metadata": {
        "colab": {
          "base_uri": "https://localhost:8080/"
        },
        "id": "93b79497",
        "outputId": "9ba199a9-4bb0-43f2-d2c1-32c291c6caee",
        "scrolled": true
      },
      "outputs": [
        {
          "output_type": "execute_result",
          "data": {
            "text/plain": [
              "Country                              0\n",
              "Year                                 0\n",
              "Status                               0\n",
              "Life expectancy                     10\n",
              "Adult Mortality                     10\n",
              "infant deaths                        0\n",
              "Alcohol                            194\n",
              "percentage expenditure               0\n",
              "Hepatitis B                        553\n",
              "Measles                              0\n",
              " BMI                                34\n",
              "under-five deaths                    0\n",
              "Polio                               19\n",
              "Total expenditure                  226\n",
              "Diphtheria                          19\n",
              " HIV/AIDS                            0\n",
              "GDP                                448\n",
              "Population                         652\n",
              " thinness  1-19 years               34\n",
              " thinness 5-9 years                 34\n",
              "Income composition of resources    167\n",
              "Schooling                          163\n",
              "dtype: int64"
            ]
          },
          "metadata": {},
          "execution_count": 5
        }
      ],
      "source": [
        "df.isnull().sum()"
      ],
      "id": "93b79497"
    },
    {
      "cell_type": "markdown",
      "metadata": {
        "id": "ece320cd"
      },
      "source": [
        "### We can observe that there are many columns with null values hence we will have to treat those columns while EDA"
      ],
      "id": "ece320cd"
    },
    {
      "cell_type": "code",
      "execution_count": null,
      "metadata": {
        "colab": {
          "base_uri": "https://localhost:8080/"
        },
        "id": "c048ab16",
        "outputId": "a444782f-bc3a-44e8-95b4-d288cce09417"
      },
      "outputs": [
        {
          "output_type": "execute_result",
          "data": {
            "text/plain": [
              "Index(['Country', 'Year', 'Status', 'Life expectancy ', 'Adult Mortality',\n",
              "       'infant deaths', 'Alcohol', 'percentage expenditure', 'Hepatitis B',\n",
              "       'Measles ', ' BMI ', 'under-five deaths ', 'Polio', 'Total expenditure',\n",
              "       'Diphtheria ', ' HIV/AIDS', 'GDP', 'Population',\n",
              "       ' thinness  1-19 years', ' thinness 5-9 years',\n",
              "       'Income composition of resources', 'Schooling'],\n",
              "      dtype='object')"
            ]
          },
          "metadata": {},
          "execution_count": 6
        }
      ],
      "source": [
        "df.columns"
      ],
      "id": "c048ab16"
    },
    {
      "cell_type": "markdown",
      "metadata": {
        "id": "aa2a2934"
      },
      "source": [
        "#### Will have to rename some columns due to Additional white spaces"
      ],
      "id": "aa2a2934"
    },
    {
      "cell_type": "markdown",
      "metadata": {
        "id": "98017b17"
      },
      "source": [
        "# Things To Do For Making Data Workable"
      ],
      "id": "98017b17"
    },
    {
      "cell_type": "markdown",
      "metadata": {
        "id": "9c04d53e"
      },
      "source": [
        "1. There are many columns with blank rows which dont have any values or are not detected as nulls.\n",
        "2. Need to Treat the null values replacing them with medians.\n",
        "3. Need to rename columns for easy of handeling while EDA."
      ],
      "id": "9c04d53e"
    },
    {
      "cell_type": "markdown",
      "metadata": {
        "id": "85385775"
      },
      "source": [
        "### Replacing \" \" (blank spaces) with np.nan to consider them as Nulls."
      ],
      "id": "85385775"
    },
    {
      "cell_type": "code",
      "execution_count": null,
      "metadata": {
        "id": "f577180a"
      },
      "outputs": [],
      "source": [
        "df.replace(' ', np.nan, inplace=True)"
      ],
      "id": "f577180a"
    },
    {
      "cell_type": "code",
      "execution_count": null,
      "metadata": {
        "colab": {
          "base_uri": "https://localhost:8080/"
        },
        "id": "87f25ca7",
        "outputId": "84018ca4-33ff-4252-f2cc-ec7163ddae9b"
      },
      "outputs": [
        {
          "output_type": "stream",
          "name": "stdout",
          "text": [
            "<class 'pandas.core.frame.DataFrame'>\n",
            "RangeIndex: 2938 entries, 0 to 2937\n",
            "Data columns (total 22 columns):\n",
            " #   Column                           Non-Null Count  Dtype  \n",
            "---  ------                           --------------  -----  \n",
            " 0   Country                          2938 non-null   object \n",
            " 1   Year                             2938 non-null   int64  \n",
            " 2   Status                           2938 non-null   object \n",
            " 3   Life expectancy                  2928 non-null   float64\n",
            " 4   Adult Mortality                  2928 non-null   float64\n",
            " 5   infant deaths                    2938 non-null   int64  \n",
            " 6   Alcohol                          2744 non-null   float64\n",
            " 7   percentage expenditure           2938 non-null   float64\n",
            " 8   Hepatitis B                      2385 non-null   float64\n",
            " 9   Measles                          2938 non-null   int64  \n",
            " 10   BMI                             2904 non-null   float64\n",
            " 11  under-five deaths                2938 non-null   int64  \n",
            " 12  Polio                            2919 non-null   float64\n",
            " 13  Total expenditure                2712 non-null   float64\n",
            " 14  Diphtheria                       2919 non-null   float64\n",
            " 15   HIV/AIDS                        2938 non-null   float64\n",
            " 16  GDP                              2490 non-null   float64\n",
            " 17  Population                       2286 non-null   float64\n",
            " 18   thinness  1-19 years            2904 non-null   float64\n",
            " 19   thinness 5-9 years              2904 non-null   float64\n",
            " 20  Income composition of resources  2771 non-null   float64\n",
            " 21  Schooling                        2775 non-null   float64\n",
            "dtypes: float64(16), int64(4), object(2)\n",
            "memory usage: 505.1+ KB\n"
          ]
        }
      ],
      "source": [
        "df.info()"
      ],
      "id": "87f25ca7"
    },
    {
      "cell_type": "code",
      "execution_count": null,
      "metadata": {
        "colab": {
          "base_uri": "https://localhost:8080/",
          "height": 416
        },
        "id": "44c179fb",
        "outputId": "f0430db1-5e4b-4403-8d5f-55ce3fe2ff54"
      },
      "outputs": [
        {
          "output_type": "execute_result",
          "data": {
            "text/plain": [
              "              Year  Life expectancy   Adult Mortality  infant deaths  \\\n",
              "count  2938.000000       2928.000000      2928.000000    2938.000000   \n",
              "mean   2007.518720         69.224932       164.796448      30.303948   \n",
              "std       4.613841          9.523867       124.292079     117.926501   \n",
              "min    2000.000000         36.300000         1.000000       0.000000   \n",
              "25%    2004.000000         63.100000        74.000000       0.000000   \n",
              "50%    2008.000000         72.100000       144.000000       3.000000   \n",
              "75%    2012.000000         75.700000       228.000000      22.000000   \n",
              "max    2015.000000         89.000000       723.000000    1800.000000   \n",
              "\n",
              "           Alcohol  percentage expenditure  Hepatitis B       Measles   \\\n",
              "count  2744.000000             2938.000000  2385.000000    2938.000000   \n",
              "mean      4.602861              738.251295    80.940461    2419.592240   \n",
              "std       4.052413             1987.914858    25.070016   11467.272489   \n",
              "min       0.010000                0.000000     1.000000       0.000000   \n",
              "25%       0.877500                4.685343    77.000000       0.000000   \n",
              "50%       3.755000               64.912906    92.000000      17.000000   \n",
              "75%       7.702500              441.534144    97.000000     360.250000   \n",
              "max      17.870000            19479.911610    99.000000  212183.000000   \n",
              "\n",
              "              BMI   under-five deaths         Polio  Total expenditure  \\\n",
              "count  2904.000000         2938.000000  2919.000000         2712.00000   \n",
              "mean     38.321247           42.035739    82.550188            5.93819   \n",
              "std      20.044034          160.445548    23.428046            2.49832   \n",
              "min       1.000000            0.000000     3.000000            0.37000   \n",
              "25%      19.300000            0.000000    78.000000            4.26000   \n",
              "50%      43.500000            4.000000    93.000000            5.75500   \n",
              "75%      56.200000           28.000000    97.000000            7.49250   \n",
              "max      87.300000         2500.000000    99.000000           17.60000   \n",
              "\n",
              "       Diphtheria      HIV/AIDS            GDP    Population  \\\n",
              "count  2919.000000  2938.000000    2490.000000  2.286000e+03   \n",
              "mean     82.324084     1.742103    7483.158469  1.275338e+07   \n",
              "std      23.716912     5.077785   14270.169342  6.101210e+07   \n",
              "min       2.000000     0.100000       1.681350  3.400000e+01   \n",
              "25%      78.000000     0.100000     463.935626  1.957932e+05   \n",
              "50%      93.000000     0.100000    1766.947595  1.386542e+06   \n",
              "75%      97.000000     0.800000    5910.806335  7.420359e+06   \n",
              "max      99.000000    50.600000  119172.741800  1.293859e+09   \n",
              "\n",
              "        thinness  1-19 years   thinness 5-9 years  \\\n",
              "count            2904.000000          2904.000000   \n",
              "mean                4.839704             4.870317   \n",
              "std                 4.420195             4.508882   \n",
              "min                 0.100000             0.100000   \n",
              "25%                 1.600000             1.500000   \n",
              "50%                 3.300000             3.300000   \n",
              "75%                 7.200000             7.200000   \n",
              "max                27.700000            28.600000   \n",
              "\n",
              "       Income composition of resources    Schooling  \n",
              "count                      2771.000000  2775.000000  \n",
              "mean                          0.627551    11.992793  \n",
              "std                           0.210904     3.358920  \n",
              "min                           0.000000     0.000000  \n",
              "25%                           0.493000    10.100000  \n",
              "50%                           0.677000    12.300000  \n",
              "75%                           0.779000    14.300000  \n",
              "max                           0.948000    20.700000  "
            ],
            "text/html": [
              "\n",
              "  <div id=\"df-6d01d5e6-b041-45c2-aaf8-5feb6240c5f1\">\n",
              "    <div class=\"colab-df-container\">\n",
              "      <div>\n",
              "<style scoped>\n",
              "    .dataframe tbody tr th:only-of-type {\n",
              "        vertical-align: middle;\n",
              "    }\n",
              "\n",
              "    .dataframe tbody tr th {\n",
              "        vertical-align: top;\n",
              "    }\n",
              "\n",
              "    .dataframe thead th {\n",
              "        text-align: right;\n",
              "    }\n",
              "</style>\n",
              "<table border=\"1\" class=\"dataframe\">\n",
              "  <thead>\n",
              "    <tr style=\"text-align: right;\">\n",
              "      <th></th>\n",
              "      <th>Year</th>\n",
              "      <th>Life expectancy</th>\n",
              "      <th>Adult Mortality</th>\n",
              "      <th>infant deaths</th>\n",
              "      <th>Alcohol</th>\n",
              "      <th>percentage expenditure</th>\n",
              "      <th>Hepatitis B</th>\n",
              "      <th>Measles</th>\n",
              "      <th>BMI</th>\n",
              "      <th>under-five deaths</th>\n",
              "      <th>Polio</th>\n",
              "      <th>Total expenditure</th>\n",
              "      <th>Diphtheria</th>\n",
              "      <th>HIV/AIDS</th>\n",
              "      <th>GDP</th>\n",
              "      <th>Population</th>\n",
              "      <th>thinness  1-19 years</th>\n",
              "      <th>thinness 5-9 years</th>\n",
              "      <th>Income composition of resources</th>\n",
              "      <th>Schooling</th>\n",
              "    </tr>\n",
              "  </thead>\n",
              "  <tbody>\n",
              "    <tr>\n",
              "      <th>count</th>\n",
              "      <td>2938.000000</td>\n",
              "      <td>2928.000000</td>\n",
              "      <td>2928.000000</td>\n",
              "      <td>2938.000000</td>\n",
              "      <td>2744.000000</td>\n",
              "      <td>2938.000000</td>\n",
              "      <td>2385.000000</td>\n",
              "      <td>2938.000000</td>\n",
              "      <td>2904.000000</td>\n",
              "      <td>2938.000000</td>\n",
              "      <td>2919.000000</td>\n",
              "      <td>2712.00000</td>\n",
              "      <td>2919.000000</td>\n",
              "      <td>2938.000000</td>\n",
              "      <td>2490.000000</td>\n",
              "      <td>2.286000e+03</td>\n",
              "      <td>2904.000000</td>\n",
              "      <td>2904.000000</td>\n",
              "      <td>2771.000000</td>\n",
              "      <td>2775.000000</td>\n",
              "    </tr>\n",
              "    <tr>\n",
              "      <th>mean</th>\n",
              "      <td>2007.518720</td>\n",
              "      <td>69.224932</td>\n",
              "      <td>164.796448</td>\n",
              "      <td>30.303948</td>\n",
              "      <td>4.602861</td>\n",
              "      <td>738.251295</td>\n",
              "      <td>80.940461</td>\n",
              "      <td>2419.592240</td>\n",
              "      <td>38.321247</td>\n",
              "      <td>42.035739</td>\n",
              "      <td>82.550188</td>\n",
              "      <td>5.93819</td>\n",
              "      <td>82.324084</td>\n",
              "      <td>1.742103</td>\n",
              "      <td>7483.158469</td>\n",
              "      <td>1.275338e+07</td>\n",
              "      <td>4.839704</td>\n",
              "      <td>4.870317</td>\n",
              "      <td>0.627551</td>\n",
              "      <td>11.992793</td>\n",
              "    </tr>\n",
              "    <tr>\n",
              "      <th>std</th>\n",
              "      <td>4.613841</td>\n",
              "      <td>9.523867</td>\n",
              "      <td>124.292079</td>\n",
              "      <td>117.926501</td>\n",
              "      <td>4.052413</td>\n",
              "      <td>1987.914858</td>\n",
              "      <td>25.070016</td>\n",
              "      <td>11467.272489</td>\n",
              "      <td>20.044034</td>\n",
              "      <td>160.445548</td>\n",
              "      <td>23.428046</td>\n",
              "      <td>2.49832</td>\n",
              "      <td>23.716912</td>\n",
              "      <td>5.077785</td>\n",
              "      <td>14270.169342</td>\n",
              "      <td>6.101210e+07</td>\n",
              "      <td>4.420195</td>\n",
              "      <td>4.508882</td>\n",
              "      <td>0.210904</td>\n",
              "      <td>3.358920</td>\n",
              "    </tr>\n",
              "    <tr>\n",
              "      <th>min</th>\n",
              "      <td>2000.000000</td>\n",
              "      <td>36.300000</td>\n",
              "      <td>1.000000</td>\n",
              "      <td>0.000000</td>\n",
              "      <td>0.010000</td>\n",
              "      <td>0.000000</td>\n",
              "      <td>1.000000</td>\n",
              "      <td>0.000000</td>\n",
              "      <td>1.000000</td>\n",
              "      <td>0.000000</td>\n",
              "      <td>3.000000</td>\n",
              "      <td>0.37000</td>\n",
              "      <td>2.000000</td>\n",
              "      <td>0.100000</td>\n",
              "      <td>1.681350</td>\n",
              "      <td>3.400000e+01</td>\n",
              "      <td>0.100000</td>\n",
              "      <td>0.100000</td>\n",
              "      <td>0.000000</td>\n",
              "      <td>0.000000</td>\n",
              "    </tr>\n",
              "    <tr>\n",
              "      <th>25%</th>\n",
              "      <td>2004.000000</td>\n",
              "      <td>63.100000</td>\n",
              "      <td>74.000000</td>\n",
              "      <td>0.000000</td>\n",
              "      <td>0.877500</td>\n",
              "      <td>4.685343</td>\n",
              "      <td>77.000000</td>\n",
              "      <td>0.000000</td>\n",
              "      <td>19.300000</td>\n",
              "      <td>0.000000</td>\n",
              "      <td>78.000000</td>\n",
              "      <td>4.26000</td>\n",
              "      <td>78.000000</td>\n",
              "      <td>0.100000</td>\n",
              "      <td>463.935626</td>\n",
              "      <td>1.957932e+05</td>\n",
              "      <td>1.600000</td>\n",
              "      <td>1.500000</td>\n",
              "      <td>0.493000</td>\n",
              "      <td>10.100000</td>\n",
              "    </tr>\n",
              "    <tr>\n",
              "      <th>50%</th>\n",
              "      <td>2008.000000</td>\n",
              "      <td>72.100000</td>\n",
              "      <td>144.000000</td>\n",
              "      <td>3.000000</td>\n",
              "      <td>3.755000</td>\n",
              "      <td>64.912906</td>\n",
              "      <td>92.000000</td>\n",
              "      <td>17.000000</td>\n",
              "      <td>43.500000</td>\n",
              "      <td>4.000000</td>\n",
              "      <td>93.000000</td>\n",
              "      <td>5.75500</td>\n",
              "      <td>93.000000</td>\n",
              "      <td>0.100000</td>\n",
              "      <td>1766.947595</td>\n",
              "      <td>1.386542e+06</td>\n",
              "      <td>3.300000</td>\n",
              "      <td>3.300000</td>\n",
              "      <td>0.677000</td>\n",
              "      <td>12.300000</td>\n",
              "    </tr>\n",
              "    <tr>\n",
              "      <th>75%</th>\n",
              "      <td>2012.000000</td>\n",
              "      <td>75.700000</td>\n",
              "      <td>228.000000</td>\n",
              "      <td>22.000000</td>\n",
              "      <td>7.702500</td>\n",
              "      <td>441.534144</td>\n",
              "      <td>97.000000</td>\n",
              "      <td>360.250000</td>\n",
              "      <td>56.200000</td>\n",
              "      <td>28.000000</td>\n",
              "      <td>97.000000</td>\n",
              "      <td>7.49250</td>\n",
              "      <td>97.000000</td>\n",
              "      <td>0.800000</td>\n",
              "      <td>5910.806335</td>\n",
              "      <td>7.420359e+06</td>\n",
              "      <td>7.200000</td>\n",
              "      <td>7.200000</td>\n",
              "      <td>0.779000</td>\n",
              "      <td>14.300000</td>\n",
              "    </tr>\n",
              "    <tr>\n",
              "      <th>max</th>\n",
              "      <td>2015.000000</td>\n",
              "      <td>89.000000</td>\n",
              "      <td>723.000000</td>\n",
              "      <td>1800.000000</td>\n",
              "      <td>17.870000</td>\n",
              "      <td>19479.911610</td>\n",
              "      <td>99.000000</td>\n",
              "      <td>212183.000000</td>\n",
              "      <td>87.300000</td>\n",
              "      <td>2500.000000</td>\n",
              "      <td>99.000000</td>\n",
              "      <td>17.60000</td>\n",
              "      <td>99.000000</td>\n",
              "      <td>50.600000</td>\n",
              "      <td>119172.741800</td>\n",
              "      <td>1.293859e+09</td>\n",
              "      <td>27.700000</td>\n",
              "      <td>28.600000</td>\n",
              "      <td>0.948000</td>\n",
              "      <td>20.700000</td>\n",
              "    </tr>\n",
              "  </tbody>\n",
              "</table>\n",
              "</div>\n",
              "      <button class=\"colab-df-convert\" onclick=\"convertToInteractive('df-6d01d5e6-b041-45c2-aaf8-5feb6240c5f1')\"\n",
              "              title=\"Convert this dataframe to an interactive table.\"\n",
              "              style=\"display:none;\">\n",
              "        \n",
              "  <svg xmlns=\"http://www.w3.org/2000/svg\" height=\"24px\"viewBox=\"0 0 24 24\"\n",
              "       width=\"24px\">\n",
              "    <path d=\"M0 0h24v24H0V0z\" fill=\"none\"/>\n",
              "    <path d=\"M18.56 5.44l.94 2.06.94-2.06 2.06-.94-2.06-.94-.94-2.06-.94 2.06-2.06.94zm-11 1L8.5 8.5l.94-2.06 2.06-.94-2.06-.94L8.5 2.5l-.94 2.06-2.06.94zm10 10l.94 2.06.94-2.06 2.06-.94-2.06-.94-.94-2.06-.94 2.06-2.06.94z\"/><path d=\"M17.41 7.96l-1.37-1.37c-.4-.4-.92-.59-1.43-.59-.52 0-1.04.2-1.43.59L10.3 9.45l-7.72 7.72c-.78.78-.78 2.05 0 2.83L4 21.41c.39.39.9.59 1.41.59.51 0 1.02-.2 1.41-.59l7.78-7.78 2.81-2.81c.8-.78.8-2.07 0-2.86zM5.41 20L4 18.59l7.72-7.72 1.47 1.35L5.41 20z\"/>\n",
              "  </svg>\n",
              "      </button>\n",
              "      \n",
              "  <style>\n",
              "    .colab-df-container {\n",
              "      display:flex;\n",
              "      flex-wrap:wrap;\n",
              "      gap: 12px;\n",
              "    }\n",
              "\n",
              "    .colab-df-convert {\n",
              "      background-color: #E8F0FE;\n",
              "      border: none;\n",
              "      border-radius: 50%;\n",
              "      cursor: pointer;\n",
              "      display: none;\n",
              "      fill: #1967D2;\n",
              "      height: 32px;\n",
              "      padding: 0 0 0 0;\n",
              "      width: 32px;\n",
              "    }\n",
              "\n",
              "    .colab-df-convert:hover {\n",
              "      background-color: #E2EBFA;\n",
              "      box-shadow: 0px 1px 2px rgba(60, 64, 67, 0.3), 0px 1px 3px 1px rgba(60, 64, 67, 0.15);\n",
              "      fill: #174EA6;\n",
              "    }\n",
              "\n",
              "    [theme=dark] .colab-df-convert {\n",
              "      background-color: #3B4455;\n",
              "      fill: #D2E3FC;\n",
              "    }\n",
              "\n",
              "    [theme=dark] .colab-df-convert:hover {\n",
              "      background-color: #434B5C;\n",
              "      box-shadow: 0px 1px 3px 1px rgba(0, 0, 0, 0.15);\n",
              "      filter: drop-shadow(0px 1px 2px rgba(0, 0, 0, 0.3));\n",
              "      fill: #FFFFFF;\n",
              "    }\n",
              "  </style>\n",
              "\n",
              "      <script>\n",
              "        const buttonEl =\n",
              "          document.querySelector('#df-6d01d5e6-b041-45c2-aaf8-5feb6240c5f1 button.colab-df-convert');\n",
              "        buttonEl.style.display =\n",
              "          google.colab.kernel.accessAllowed ? 'block' : 'none';\n",
              "\n",
              "        async function convertToInteractive(key) {\n",
              "          const element = document.querySelector('#df-6d01d5e6-b041-45c2-aaf8-5feb6240c5f1');\n",
              "          const dataTable =\n",
              "            await google.colab.kernel.invokeFunction('convertToInteractive',\n",
              "                                                     [key], {});\n",
              "          if (!dataTable) return;\n",
              "\n",
              "          const docLinkHtml = 'Like what you see? Visit the ' +\n",
              "            '<a target=\"_blank\" href=https://colab.research.google.com/notebooks/data_table.ipynb>data table notebook</a>'\n",
              "            + ' to learn more about interactive tables.';\n",
              "          element.innerHTML = '';\n",
              "          dataTable['output_type'] = 'display_data';\n",
              "          await google.colab.output.renderOutput(dataTable, element);\n",
              "          const docLink = document.createElement('div');\n",
              "          docLink.innerHTML = docLinkHtml;\n",
              "          element.appendChild(docLink);\n",
              "        }\n",
              "      </script>\n",
              "    </div>\n",
              "  </div>\n",
              "  "
            ]
          },
          "metadata": {},
          "execution_count": 9
        }
      ],
      "source": [
        "df.describe()"
      ],
      "id": "44c179fb"
    },
    {
      "cell_type": "markdown",
      "metadata": {
        "id": "3e8a220f"
      },
      "source": [
        "# Target Variable"
      ],
      "id": "3e8a220f"
    },
    {
      "cell_type": "markdown",
      "metadata": {
        "id": "0ca4ad21"
      },
      "source": [
        "### Life_expectancy"
      ],
      "id": "0ca4ad21"
    },
    {
      "cell_type": "code",
      "execution_count": null,
      "metadata": {
        "id": "a2475924"
      },
      "outputs": [],
      "source": [
        "df.rename(columns = {'Life expectancy ': 'Life_expectancy'}, inplace = True)"
      ],
      "id": "a2475924"
    },
    {
      "cell_type": "markdown",
      "metadata": {
        "id": "52190fc8"
      },
      "source": [
        "Treating Null Values"
      ],
      "id": "52190fc8"
    },
    {
      "cell_type": "code",
      "execution_count": null,
      "metadata": {
        "id": "b39571d9"
      },
      "outputs": [],
      "source": [
        "df.Life_expectancy = df.Life_expectancy.fillna(df.Life_expectancy.median())"
      ],
      "id": "b39571d9"
    },
    {
      "cell_type": "code",
      "execution_count": null,
      "metadata": {
        "id": "52e6bded",
        "colab": {
          "base_uri": "https://localhost:8080/"
        },
        "outputId": "3f64f170-6aab-4053-9d7f-41ffef727b1c"
      },
      "outputs": [
        {
          "output_type": "execute_result",
          "data": {
            "text/plain": [
              "0"
            ]
          },
          "metadata": {},
          "execution_count": 12
        }
      ],
      "source": [
        "df.Life_expectancy.isnull().sum()"
      ],
      "id": "52e6bded"
    },
    {
      "cell_type": "code",
      "execution_count": null,
      "metadata": {
        "id": "5c8474d5",
        "colab": {
          "base_uri": "https://localhost:8080/",
          "height": 467
        },
        "outputId": "cd7d698b-287f-4f4c-dec4-8da8ffdfd1af"
      },
      "outputs": [
        {
          "output_type": "execute_result",
          "data": {
            "text/plain": [
              "<Axes: xlabel='Life_expectancy', ylabel='Density'>"
            ]
          },
          "metadata": {},
          "execution_count": 13
        },
        {
          "output_type": "display_data",
          "data": {
            "text/plain": [
              "<Figure size 640x480 with 1 Axes>"
            ],
            "image/png": "[encoded data removed]"
          },
          "metadata": {}
        }
      ],
      "source": [
        "sns.distplot(df.Life_expectancy)"
      ],
      "id": "5c8474d5"
    },
    {
      "cell_type": "markdown",
      "metadata": {
        "id": "2d3b33ac"
      },
      "source": [
        "# EDA : Exploratory Data Analysis"
      ],
      "id": "2d3b33ac"
    },
    {
      "cell_type": "markdown",
      "metadata": {
        "id": "b5f76daf"
      },
      "source": [
        "### 1. Country"
      ],
      "id": "b5f76daf"
    },
    {
      "cell_type": "code",
      "execution_count": null,
      "metadata": {
        "colab": {
          "base_uri": "https://localhost:8080/"
        },
        "id": "131639c9",
        "outputId": "88607c3d-c91e-4fa9-f96a-e33e65bb226e"
      },
      "outputs": [
        {
          "output_type": "execute_result",
          "data": {
            "text/plain": [
              "0"
            ]
          },
          "metadata": {},
          "execution_count": 14
        }
      ],
      "source": [
        "df.Country.isnull().sum()"
      ],
      "id": "131639c9"
    },
    {
      "cell_type": "markdown",
      "metadata": {
        "id": "825ba758"
      },
      "source": [
        "#### Looking at the fact that name of country wont affect the Life Expectancy much Decided to eventually drop this column"
      ],
      "id": "825ba758"
    },
    {
      "cell_type": "markdown",
      "metadata": {
        "id": "ac27fad8"
      },
      "source": [
        "### 2. Year"
      ],
      "id": "ac27fad8"
    },
    {
      "cell_type": "code",
      "execution_count": null,
      "metadata": {
        "colab": {
          "base_uri": "https://localhost:8080/",
          "height": 466
        },
        "id": "0ad7d972",
        "outputId": "d78bf90e-357b-43be-eec2-f1ca9605e916"
      },
      "outputs": [
        {
          "output_type": "execute_result",
          "data": {
            "text/plain": [
              "<Axes: xlabel='year', ylabel='Life_expectancy'>"
            ]
          },
          "metadata": {},
          "execution_count": 15
        },
        {
          "output_type": "display_data",
          "data": {
            "text/plain": [
              "<Figure size 640x480 with 1 Axes>"
            ],
            "image/png": "[encoded data removed]"
          },
          "metadata": {}
        }
      ],
      "source": [
        "df.rename(columns = {'Year':'year'}, inplace = True)\n",
        "df.year\n",
        "df.year.value_counts()\n",
        "sns.countplot(df.year)\n",
        "sns.boxplot(df.year)\n",
        "sns.boxplot(y='Life_expectancy', x = 'year', data=df)"
      ],
      "id": "0ad7d972"
    },
    {
      "cell_type": "code",
      "execution_count": null,
      "metadata": {
        "id": "740f9249"
      },
      "outputs": [],
      "source": [
        "df.rename(columns = {'Year':'year'}, inplace = True)"
      ],
      "id": "740f9249"
    },
    {
      "cell_type": "code",
      "execution_count": null,
      "metadata": {
        "colab": {
          "base_uri": "https://localhost:8080/"
        },
        "id": "fde6a78a",
        "outputId": "70359792-66c3-4a6c-d6de-4bacf30974c3"
      },
      "outputs": [
        {
          "output_type": "execute_result",
          "data": {
            "text/plain": [
              "0"
            ]
          },
          "metadata": {},
          "execution_count": 17
        }
      ],
      "source": [
        "df.year.isnull().sum()"
      ],
      "id": "fde6a78a"
    },
    {
      "cell_type": "code",
      "execution_count": null,
      "metadata": {
        "colab": {
          "base_uri": "https://localhost:8080/",
          "height": 447
        },
        "id": "25d6759d",
        "outputId": "037afce3-48eb-4486-ea89-0c169d2088dc"
      },
      "outputs": [
        {
          "output_type": "execute_result",
          "data": {
            "text/plain": [
              "<Axes: ylabel='count'>"
            ]
          },
          "metadata": {},
          "execution_count": 18
        },
        {
          "output_type": "display_data",
          "data": {
            "text/plain": [
              "<Figure size 640x480 with 1 Axes>"
            ],
            "image/png": "[encoded data removed]"
          },
          "metadata": {}
        }
      ],
      "source": [
        "sns.countplot(df.year)"
      ],
      "id": "25d6759d"
    },
    {
      "cell_type": "code",
      "execution_count": null,
      "metadata": {
        "colab": {
          "base_uri": "https://localhost:8080/",
          "height": 488
        },
        "id": "3ac87308",
        "outputId": "d92846c9-cf9d-40b6-9bca-75d718680d51"
      },
      "outputs": [
        {
          "output_type": "execute_result",
          "data": {
            "text/plain": [
              "<Axes: xlabel='year'>"
            ]
          },
          "metadata": {},
          "execution_count": 19
        },
        {
          "output_type": "display_data",
          "data": {
            "text/plain": [
              "<Figure size 640x480 with 1 Axes>"
            ],
            "image/png": "[encoded data removed]"
          },
          "metadata": {}
        }
      ],
      "source": [
        "df.groupby('year').count()['Life_expectancy'].plot(kind = 'bar')"
      ],
      "id": "3ac87308"
    },
    {
      "cell_type": "code",
      "execution_count": null,
      "metadata": {
        "colab": {
          "base_uri": "https://localhost:8080/",
          "height": 112
        },
        "id": "b67405df",
        "outputId": "02bfe2c9-8ead-4e3a-e2ce-b84e3b0d8b00"
      },
      "outputs": [
        {
          "output_type": "execute_result",
          "data": {
            "text/plain": [
              "              df         sum_sq      mean_sq          F        PR(>F)\n",
              "year         1.0    7749.218083  7749.218083  88.245126  1.124203e-20\n",
              "Residual  2936.0  257823.920733    87.814687        NaN           NaN"
            ],
            "text/html": [
              "\n",
              "  <div id=\"df-449a7101-56ff-4186-9a07-40a8433cbfd8\">\n",
              "    <div class=\"colab-df-container\">\n",
              "      <div>\n",
              "<style scoped>\n",
              "    .dataframe tbody tr th:only-of-type {\n",
              "        vertical-align: middle;\n",
              "    }\n",
              "\n",
              "    .dataframe tbody tr th {\n",
              "        vertical-align: top;\n",
              "    }\n",
              "\n",
              "    .dataframe thead th {\n",
              "        text-align: right;\n",
              "    }\n",
              "</style>\n",
              "<table border=\"1\" class=\"dataframe\">\n",
              "  <thead>\n",
              "    <tr style=\"text-align: right;\">\n",
              "      <th></th>\n",
              "      <th>df</th>\n",
              "      <th>sum_sq</th>\n",
              "      <th>mean_sq</th>\n",
              "      <th>F</th>\n",
              "      <th>PR(&gt;F)</th>\n",
              "    </tr>\n",
              "  </thead>\n",
              "  <tbody>\n",
              "    <tr>\n",
              "      <th>year</th>\n",
              "      <td>1.0</td>\n",
              "      <td>7749.218083</td>\n",
              "      <td>7749.218083</td>\n",
              "      <td>88.245126</td>\n",
              "      <td>1.124203e-20</td>\n",
              "    </tr>\n",
              "    <tr>\n",
              "      <th>Residual</th>\n",
              "      <td>2936.0</td>\n",
              "      <td>257823.920733</td>\n",
              "      <td>87.814687</td>\n",
              "      <td>NaN</td>\n",
              "      <td>NaN</td>\n",
              "    </tr>\n",
              "  </tbody>\n",
              "</table>\n",
              "</div>\n",
              "      <button class=\"colab-df-convert\" onclick=\"convertToInteractive('df-449a7101-56ff-4186-9a07-40a8433cbfd8')\"\n",
              "              title=\"Convert this dataframe to an interactive table.\"\n",
              "              style=\"display:none;\">\n",
              "        \n",
              "  <svg xmlns=\"http://www.w3.org/2000/svg\" height=\"24px\"viewBox=\"0 0 24 24\"\n",
              "       width=\"24px\">\n",
              "    <path d=\"M0 0h24v24H0V0z\" fill=\"none\"/>\n",
              "    <path d=\"M18.56 5.44l.94 2.06.94-2.06 2.06-.94-2.06-.94-.94-2.06-.94 2.06-2.06.94zm-11 1L8.5 8.5l.94-2.06 2.06-.94-2.06-.94L8.5 2.5l-.94 2.06-2.06.94zm10 10l.94 2.06.94-2.06 2.06-.94-2.06-.94-.94-2.06-.94 2.06-2.06.94z\"/><path d=\"M17.41 7.96l-1.37-1.37c-.4-.4-.92-.59-1.43-.59-.52 0-1.04.2-1.43.59L10.3 9.45l-7.72 7.72c-.78.78-.78 2.05 0 2.83L4 21.41c.39.39.9.59 1.41.59.51 0 1.02-.2 1.41-.59l7.78-7.78 2.81-2.81c.8-.78.8-2.07 0-2.86zM5.41 20L4 18.59l7.72-7.72 1.47 1.35L5.41 20z\"/>\n",
              "  </svg>\n",
              "      </button>\n",
              "      \n",
              "  <style>\n",
              "    .colab-df-container {\n",
              "      display:flex;\n",
              "      flex-wrap:wrap;\n",
              "      gap: 12px;\n",
              "    }\n",
              "\n",
              "    .colab-df-convert {\n",
              "      background-color: #E8F0FE;\n",
              "      border: none;\n",
              "      border-radius: 50%;\n",
              "      cursor: pointer;\n",
              "      display: none;\n",
              "      fill: #1967D2;\n",
              "      height: 32px;\n",
              "      padding: 0 0 0 0;\n",
              "      width: 32px;\n",
              "    }\n",
              "\n",
              "    .colab-df-convert:hover {\n",
              "      background-color: #E2EBFA;\n",
              "      box-shadow: 0px 1px 2px rgba(60, 64, 67, 0.3), 0px 1px 3px 1px rgba(60, 64, 67, 0.15);\n",
              "      fill: #174EA6;\n",
              "    }\n",
              "\n",
              "    [theme=dark] .colab-df-convert {\n",
              "      background-color: #3B4455;\n",
              "      fill: #D2E3FC;\n",
              "    }\n",
              "\n",
              "    [theme=dark] .colab-df-convert:hover {\n",
              "      background-color: #434B5C;\n",
              "      box-shadow: 0px 1px 3px 1px rgba(0, 0, 0, 0.15);\n",
              "      filter: drop-shadow(0px 1px 2px rgba(0, 0, 0, 0.3));\n",
              "      fill: #FFFFFF;\n",
              "    }\n",
              "  </style>\n",
              "\n",
              "      <script>\n",
              "        const buttonEl =\n",
              "          document.querySelector('#df-449a7101-56ff-4186-9a07-40a8433cbfd8 button.colab-df-convert');\n",
              "        buttonEl.style.display =\n",
              "          google.colab.kernel.accessAllowed ? 'block' : 'none';\n",
              "\n",
              "        async function convertToInteractive(key) {\n",
              "          const element = document.querySelector('#df-449a7101-56ff-4186-9a07-40a8433cbfd8');\n",
              "          const dataTable =\n",
              "            await google.colab.kernel.invokeFunction('convertToInteractive',\n",
              "                                                     [key], {});\n",
              "          if (!dataTable) return;\n",
              "\n",
              "          const docLinkHtml = 'Like what you see? Visit the ' +\n",
              "            '<a target=\"_blank\" href=https://colab.research.google.com/notebooks/data_table.ipynb>data table notebook</a>'\n",
              "            + ' to learn more about interactive tables.';\n",
              "          element.innerHTML = '';\n",
              "          dataTable['output_type'] = 'display_data';\n",
              "          await google.colab.output.renderOutput(dataTable, element);\n",
              "          const docLink = document.createElement('div');\n",
              "          docLink.innerHTML = docLinkHtml;\n",
              "          element.appendChild(docLink);\n",
              "        }\n",
              "      </script>\n",
              "    </div>\n",
              "  </div>\n",
              "  "
            ]
          },
          "metadata": {},
          "execution_count": 20
        }
      ],
      "source": [
        "mod = ols('Life_expectancy ~ year', data=df).fit()\n",
        "aov_table = sm.stats.anova_lm(mod)\n",
        "aov_table"
      ],
      "id": "b67405df"
    },
    {
      "cell_type": "markdown",
      "metadata": {
        "id": "32f29bd5"
      },
      "source": [
        "P-value is Less than 0.05 Significance level hence there is a significant statistical difference between the Means of\n",
        "Life Expectancy and Year"
      ],
      "id": "32f29bd5"
    },
    {
      "cell_type": "markdown",
      "metadata": {
        "id": "caf7810c"
      },
      "source": [
        "### 3. Status"
      ],
      "id": "caf7810c"
    },
    {
      "cell_type": "code",
      "execution_count": null,
      "metadata": {
        "colab": {
          "base_uri": "https://localhost:8080/"
        },
        "id": "bd605242",
        "outputId": "930c9ee4-f760-44b8-b2fa-d8930089b685"
      },
      "outputs": [
        {
          "output_type": "execute_result",
          "data": {
            "text/plain": [
              "Developing    2426\n",
              "Developed      512\n",
              "Name: Status, dtype: int64"
            ]
          },
          "metadata": {},
          "execution_count": 21
        }
      ],
      "source": [
        "df.Status.value_counts()"
      ],
      "id": "bd605242"
    },
    {
      "cell_type": "code",
      "execution_count": null,
      "metadata": {
        "colab": {
          "base_uri": "https://localhost:8080/"
        },
        "id": "073f6983",
        "outputId": "b489c1cb-6e62-4443-bc04-f51de7f7b1d1"
      },
      "outputs": [
        {
          "output_type": "execute_result",
          "data": {
            "text/plain": [
              "0"
            ]
          },
          "metadata": {},
          "execution_count": 22
        }
      ],
      "source": [
        "df.Status.isnull().sum()"
      ],
      "id": "073f6983"
    },
    {
      "cell_type": "markdown",
      "metadata": {
        "id": "d70242c6"
      },
      "source": [
        "Will replace this with numbers as SGD Regressor wont understand Category"
      ],
      "id": "d70242c6"
    },
    {
      "cell_type": "code",
      "execution_count": null,
      "metadata": {
        "colab": {
          "base_uri": "https://localhost:8080/"
        },
        "id": "b87640f1",
        "outputId": "051af094-d875-45b4-c9b7-6135a634d6eb"
      },
      "outputs": [
        {
          "output_type": "execute_result",
          "data": {
            "text/plain": [
              "<Axes: xlabel='Status'>"
            ]
          },
          "metadata": {},
          "execution_count": 23
        },
        {
          "output_type": "display_data",
          "data": {
            "text/plain": [
              "<Figure size 640x480 with 1 Axes>"
            ],
            "image/png": "[encoded data removed]"
          },
          "metadata": {}
        }
      ],
      "source": [
        "df.groupby('Status').count()['Life_expectancy'].plot(kind = 'bar')"
      ],
      "id": "b87640f1"
    },
    {
      "cell_type": "markdown",
      "metadata": {
        "id": "3db397f7"
      },
      "source": [
        "developing will be 1 and Developed will be 0\n",
        "The category with more intance is taken as 1"
      ],
      "id": "3db397f7"
    },
    {
      "cell_type": "code",
      "execution_count": null,
      "metadata": {
        "id": "b3a4dead"
      },
      "outputs": [],
      "source": [
        "df.replace('Developing',1,inplace=True)"
      ],
      "id": "b3a4dead"
    },
    {
      "cell_type": "code",
      "execution_count": null,
      "metadata": {
        "id": "e7140482"
      },
      "outputs": [],
      "source": [
        "df.replace('Developed',0,inplace=True)"
      ],
      "id": "e7140482"
    },
    {
      "cell_type": "code",
      "execution_count": null,
      "metadata": {
        "colab": {
          "base_uri": "https://localhost:8080/"
        },
        "id": "7e1db788",
        "outputId": "a2831808-077b-4ac4-e758-c5afa387ce0e"
      },
      "outputs": [
        {
          "output_type": "execute_result",
          "data": {
            "text/plain": [
              "1    2426\n",
              "0     512\n",
              "Name: Status, dtype: int64"
            ]
          },
          "metadata": {},
          "execution_count": 26
        }
      ],
      "source": [
        "df.Status.value_counts()"
      ],
      "id": "7e1db788"
    },
    {
      "cell_type": "code",
      "execution_count": null,
      "metadata": {
        "colab": {
          "base_uri": "https://localhost:8080/"
        },
        "id": "2744f2c4",
        "outputId": "4627a64c-862f-4eda-fe6e-6fc2b90bd977"
      },
      "outputs": [
        {
          "output_type": "execute_result",
          "data": {
            "text/plain": [
              "              df         sum_sq       mean_sq           F         PR(>F)\n",
              "Status       1.0   61549.269757  61549.269757  885.723111  2.479518e-170\n",
              "Residual  2936.0  204023.869059     69.490419         NaN            NaN"
            ],
            "text/html": [
              "\n",
              "  <div id=\"df-369c5291-3ddf-4519-a0a4-a14b4e1c55c8\">\n",
              "    <div class=\"colab-df-container\">\n",
              "      <div>\n",
              "<style scoped>\n",
              "    .dataframe tbody tr th:only-of-type {\n",
              "        vertical-align: middle;\n",
              "    }\n",
              "\n",
              "    .dataframe tbody tr th {\n",
              "        vertical-align: top;\n",
              "    }\n",
              "\n",
              "    .dataframe thead th {\n",
              "        text-align: right;\n",
              "    }\n",
              "</style>\n",
              "<table border=\"1\" class=\"dataframe\">\n",
              "  <thead>\n",
              "    <tr style=\"text-align: right;\">\n",
              "      <th></th>\n",
              "      <th>df</th>\n",
              "      <th>sum_sq</th>\n",
              "      <th>mean_sq</th>\n",
              "      <th>F</th>\n",
              "      <th>PR(&gt;F)</th>\n",
              "    </tr>\n",
              "  </thead>\n",
              "  <tbody>\n",
              "    <tr>\n",
              "      <th>Status</th>\n",
              "      <td>1.0</td>\n",
              "      <td>61549.269757</td>\n",
              "      <td>61549.269757</td>\n",
              "      <td>885.723111</td>\n",
              "      <td>2.479518e-170</td>\n",
              "    </tr>\n",
              "    <tr>\n",
              "      <th>Residual</th>\n",
              "      <td>2936.0</td>\n",
              "      <td>204023.869059</td>\n",
              "      <td>69.490419</td>\n",
              "      <td>NaN</td>\n",
              "      <td>NaN</td>\n",
              "    </tr>\n",
              "  </tbody>\n",
              "</table>\n",
              "</div>\n",
              "      <button class=\"colab-df-convert\" onclick=\"convertToInteractive('df-369c5291-3ddf-4519-a0a4-a14b4e1c55c8')\"\n",
              "              title=\"Convert this dataframe to an interactive table.\"\n",
              "              style=\"display:none;\">\n",
              "        \n",
              "  <svg xmlns=\"http://www.w3.org/2000/svg\" height=\"24px\"viewBox=\"0 0 24 24\"\n",
              "       width=\"24px\">\n",
              "    <path d=\"M0 0h24v24H0V0z\" fill=\"none\"/>\n",
              "    <path d=\"M18.56 5.44l.94 2.06.94-2.06 2.06-.94-2.06-.94-.94-2.06-.94 2.06-2.06.94zm-11 1L8.5 8.5l.94-2.06 2.06-.94-2.06-.94L8.5 2.5l-.94 2.06-2.06.94zm10 10l.94 2.06.94-2.06 2.06-.94-2.06-.94-.94-2.06-.94 2.06-2.06.94z\"/><path d=\"M17.41 7.96l-1.37-1.37c-.4-.4-.92-.59-1.43-.59-.52 0-1.04.2-1.43.59L10.3 9.45l-7.72 7.72c-.78.78-.78 2.05 0 2.83L4 21.41c.39.39.9.59 1.41.59.51 0 1.02-.2 1.41-.59l7.78-7.78 2.81-2.81c.8-.78.8-2.07 0-2.86zM5.41 20L4 18.59l7.72-7.72 1.47 1.35L5.41 20z\"/>\n",
              "  </svg>\n",
              "      </button>\n",
              "      \n",
              "  <style>\n",
              "    .colab-df-container {\n",
              "      display:flex;\n",
              "      flex-wrap:wrap;\n",
              "      gap: 12px;\n",
              "    }\n",
              "\n",
              "    .colab-df-convert {\n",
              "      background-color: #E8F0FE;\n",
              "      border: none;\n",
              "      border-radius: 50%;\n",
              "      cursor: pointer;\n",
              "      display: none;\n",
              "      fill: #1967D2;\n",
              "      height: 32px;\n",
              "      padding: 0 0 0 0;\n",
              "      width: 32px;\n",
              "    }\n",
              "\n",
              "    .colab-df-convert:hover {\n",
              "      background-color: #E2EBFA;\n",
              "      box-shadow: 0px 1px 2px rgba(60, 64, 67, 0.3), 0px 1px 3px 1px rgba(60, 64, 67, 0.15);\n",
              "      fill: #174EA6;\n",
              "    }\n",
              "\n",
              "    [theme=dark] .colab-df-convert {\n",
              "      background-color: #3B4455;\n",
              "      fill: #D2E3FC;\n",
              "    }\n",
              "\n",
              "    [theme=dark] .colab-df-convert:hover {\n",
              "      background-color: #434B5C;\n",
              "      box-shadow: 0px 1px 3px 1px rgba(0, 0, 0, 0.15);\n",
              "      filter: drop-shadow(0px 1px 2px rgba(0, 0, 0, 0.3));\n",
              "      fill: #FFFFFF;\n",
              "    }\n",
              "  </style>\n",
              "\n",
              "      <script>\n",
              "        const buttonEl =\n",
              "          document.querySelector('#df-369c5291-3ddf-4519-a0a4-a14b4e1c55c8 button.colab-df-convert');\n",
              "        buttonEl.style.display =\n",
              "          google.colab.kernel.accessAllowed ? 'block' : 'none';\n",
              "\n",
              "        async function convertToInteractive(key) {\n",
              "          const element = document.querySelector('#df-369c5291-3ddf-4519-a0a4-a14b4e1c55c8');\n",
              "          const dataTable =\n",
              "            await google.colab.kernel.invokeFunction('convertToInteractive',\n",
              "                                                     [key], {});\n",
              "          if (!dataTable) return;\n",
              "\n",
              "          const docLinkHtml = 'Like what you see? Visit the ' +\n",
              "            '<a target=\"_blank\" href=https://colab.research.google.com/notebooks/data_table.ipynb>data table notebook</a>'\n",
              "            + ' to learn more about interactive tables.';\n",
              "          element.innerHTML = '';\n",
              "          dataTable['output_type'] = 'display_data';\n",
              "          await google.colab.output.renderOutput(dataTable, element);\n",
              "          const docLink = document.createElement('div');\n",
              "          docLink.innerHTML = docLinkHtml;\n",
              "          element.appendChild(docLink);\n",
              "        }\n",
              "      </script>\n",
              "    </div>\n",
              "  </div>\n",
              "  "
            ]
          },
          "metadata": {},
          "execution_count": 27
        }
      ],
      "source": [
        "mod = ols('Life_expectancy ~ Status', data=df).fit()\n",
        "aov_table = sm.stats.anova_lm(mod)\n",
        "aov_table"
      ],
      "id": "2744f2c4"
    },
    {
      "cell_type": "markdown",
      "metadata": {
        "id": "db256c35"
      },
      "source": [
        "As the p-value is less than 0.05 hence there is a significant statistical difference between Status and life Expectancy"
      ],
      "id": "db256c35"
    },
    {
      "cell_type": "markdown",
      "metadata": {
        "id": "1ffbbe8d"
      },
      "source": [
        "### 4. Adult Mortality"
      ],
      "id": "1ffbbe8d"
    },
    {
      "cell_type": "code",
      "execution_count": null,
      "metadata": {
        "id": "66cdefae"
      },
      "outputs": [],
      "source": [
        "df.rename(columns = {'Adult Mortality':'adult_mortality'}, inplace = True)"
      ],
      "id": "66cdefae"
    },
    {
      "cell_type": "code",
      "execution_count": null,
      "metadata": {
        "colab": {
          "base_uri": "https://localhost:8080/"
        },
        "id": "24406b50",
        "outputId": "6ece0dc8-41e1-4fe7-fab9-b6f41099d16f"
      },
      "outputs": [
        {
          "output_type": "execute_result",
          "data": {
            "text/plain": [
              "10"
            ]
          },
          "metadata": {},
          "execution_count": 29
        }
      ],
      "source": [
        "df.adult_mortality.isnull().sum()"
      ],
      "id": "24406b50"
    },
    {
      "cell_type": "code",
      "execution_count": null,
      "metadata": {
        "id": "cd5303d3"
      },
      "outputs": [],
      "source": [
        "df.adult_mortality = df.adult_mortality.fillna(df.adult_mortality.median())"
      ],
      "id": "cd5303d3"
    },
    {
      "cell_type": "code",
      "execution_count": null,
      "metadata": {
        "colab": {
          "base_uri": "https://localhost:8080/"
        },
        "id": "8ea833dc",
        "outputId": "c01b6a28-6c23-4c6a-d28a-ce7c3fc72d65"
      },
      "outputs": [
        {
          "output_type": "execute_result",
          "data": {
            "text/plain": [
              "0"
            ]
          },
          "metadata": {},
          "execution_count": 31
        }
      ],
      "source": [
        "df.adult_mortality.isnull().sum()"
      ],
      "id": "8ea833dc"
    },
    {
      "cell_type": "code",
      "execution_count": null,
      "metadata": {
        "colab": {
          "base_uri": "https://localhost:8080/"
        },
        "id": "9ff66a86",
        "outputId": "6b59ac9d-d5e6-4528-911f-acfd34ed37c9"
      },
      "outputs": [
        {
          "output_type": "execute_result",
          "data": {
            "text/plain": [
              "<seaborn.axisgrid.FacetGrid at 0x7f12defd7520>"
            ]
          },
          "metadata": {},
          "execution_count": 32
        },
        {
          "output_type": "display_data",
          "data": {
            "text/plain": [
              "<Figure size 500x500 with 1 Axes>"
            ],
            "image/png": "[encoded data removed]"
          },
          "metadata": {}
        }
      ],
      "source": [
        "sns.displot(df.adult_mortality)"
      ],
      "id": "9ff66a86"
    },
    {
      "cell_type": "code",
      "execution_count": null,
      "metadata": {
        "colab": {
          "base_uri": "https://localhost:8080/"
        },
        "id": "3b9792c7",
        "outputId": "b7d74ac6-755a-406b-80bd-d4113fcad773"
      },
      "outputs": [
        {
          "output_type": "stream",
          "name": "stdout",
          "text": [
            "Pearsons Correlation: -0.696\n"
          ]
        }
      ],
      "source": [
        "corr,_ = pearsonr(df.adult_mortality, df.Life_expectancy)\n",
        "print('Pearsons Correlation: %.3f'%corr)"
      ],
      "id": "3b9792c7"
    },
    {
      "cell_type": "markdown",
      "metadata": {
        "id": "01772281"
      },
      "source": [
        "Adult Mortality has a negative correlation with Life Expectancy."
      ],
      "id": "01772281"
    },
    {
      "cell_type": "markdown",
      "metadata": {
        "id": "a80b1ddf"
      },
      "source": [
        "### 5. Infant Death"
      ],
      "id": "a80b1ddf"
    },
    {
      "cell_type": "code",
      "execution_count": null,
      "metadata": {
        "id": "e2b1c568"
      },
      "outputs": [],
      "source": [
        "df.rename(columns = {'infant deaths':'infant_deaths'}, inplace=True)"
      ],
      "id": "e2b1c568"
    },
    {
      "cell_type": "code",
      "execution_count": null,
      "metadata": {
        "colab": {
          "base_uri": "https://localhost:8080/"
        },
        "id": "1cf942a5",
        "outputId": "827cbd2d-138c-4f5d-cd9a-ba0dca2b5a52"
      },
      "outputs": [
        {
          "output_type": "execute_result",
          "data": {
            "text/plain": [
              "0"
            ]
          },
          "metadata": {},
          "execution_count": 35
        }
      ],
      "source": [
        "df.infant_deaths.isnull().sum()"
      ],
      "id": "1cf942a5"
    },
    {
      "cell_type": "code",
      "execution_count": null,
      "metadata": {
        "colab": {
          "base_uri": "https://localhost:8080/"
        },
        "id": "6c194670",
        "outputId": "3ae5596d-423b-4c4d-8c53-d64b8cdb9699"
      },
      "outputs": [
        {
          "output_type": "execute_result",
          "data": {
            "text/plain": [
              "<Axes: xlabel='infant_deaths', ylabel='Density'>"
            ]
          },
          "metadata": {},
          "execution_count": 36
        },
        {
          "output_type": "display_data",
          "data": {
            "text/plain": [
              "<Figure size 640x480 with 1 Axes>"
            ],
            "image/png": "[encoded data removed]"
          },
          "metadata": {}
        }
      ],
      "source": [
        "sns.distplot(df.infant_deaths)"
      ],
      "id": "6c194670"
    },
    {
      "cell_type": "code",
      "execution_count": null,
      "metadata": {
        "colab": {
          "base_uri": "https://localhost:8080/"
        },
        "id": "55746e76",
        "outputId": "d0b0a47d-a233-4c3d-82c5-f9c569e1b159"
      },
      "outputs": [
        {
          "output_type": "stream",
          "name": "stdout",
          "text": [
            "Pearsons correlation: -0.197\n"
          ]
        }
      ],
      "source": [
        "corr,_ = pearsonr(df.infant_deaths ,df.Life_expectancy)\n",
        "print('Pearsons correlation: %.3f' %corr)"
      ],
      "id": "55746e76"
    },
    {
      "cell_type": "markdown",
      "metadata": {
        "id": "b76ca13f"
      },
      "source": [
        "### 6. Alcohol"
      ],
      "id": "b76ca13f"
    },
    {
      "cell_type": "code",
      "execution_count": null,
      "metadata": {
        "colab": {
          "base_uri": "https://localhost:8080/"
        },
        "id": "79621cf0",
        "outputId": "06902a82-0763-4ca3-b858-4e212f22ad04"
      },
      "outputs": [
        {
          "output_type": "execute_result",
          "data": {
            "text/plain": [
              "194"
            ]
          },
          "metadata": {},
          "execution_count": 38
        }
      ],
      "source": [
        "df.Alcohol.isnull().sum()"
      ],
      "id": "79621cf0"
    },
    {
      "cell_type": "code",
      "execution_count": null,
      "metadata": {
        "id": "375ea701"
      },
      "outputs": [],
      "source": [
        "df.Alcohol = df.Alcohol.fillna(df.Alcohol.median())"
      ],
      "id": "375ea701"
    },
    {
      "cell_type": "code",
      "execution_count": null,
      "metadata": {
        "colab": {
          "base_uri": "https://localhost:8080/"
        },
        "id": "9218e468",
        "outputId": "c775cca3-f293-4ffc-f00b-89b953d99698"
      },
      "outputs": [
        {
          "output_type": "execute_result",
          "data": {
            "text/plain": [
              "0"
            ]
          },
          "metadata": {},
          "execution_count": 40
        }
      ],
      "source": [
        "df.Alcohol.isnull().sum()"
      ],
      "id": "9218e468"
    },
    {
      "cell_type": "code",
      "execution_count": null,
      "metadata": {
        "colab": {
          "base_uri": "https://localhost:8080/"
        },
        "id": "9174b85d",
        "outputId": "8dfd68a5-e599-4311-cb96-702f704f0a19"
      },
      "outputs": [
        {
          "output_type": "execute_result",
          "data": {
            "text/plain": [
              "<Axes: xlabel='Alcohol', ylabel='Density'>"
            ]
          },
          "metadata": {},
          "execution_count": 41
        },
        {
          "output_type": "display_data",
          "data": {
            "text/plain": [
              "<Figure size 640x480 with 1 Axes>"
            ],
            "image/png": "[encoded data removed]"
          },
          "metadata": {}
        }
      ],
      "source": [
        "sns.distplot(df.Alcohol)"
      ],
      "id": "9174b85d"
    },
    {
      "cell_type": "code",
      "execution_count": null,
      "metadata": {
        "colab": {
          "base_uri": "https://localhost:8080/"
        },
        "id": "350cd6c7",
        "outputId": "ed9d5445-bd4c-4e10-a0d8-882273cef3c6"
      },
      "outputs": [
        {
          "output_type": "stream",
          "name": "stdout",
          "text": [
            "Pearsons Correlation: 0.389\n"
          ]
        }
      ],
      "source": [
        "corr,_ = pearsonr(df.Alcohol, df.Life_expectancy)\n",
        "print('Pearsons Correlation: %.3f'%corr)"
      ],
      "id": "350cd6c7"
    },
    {
      "cell_type": "markdown",
      "metadata": {
        "id": "3c01a560"
      },
      "source": [
        "The correlation detween Alcohol and Life Expectancy"
      ],
      "id": "3c01a560"
    },
    {
      "cell_type": "markdown",
      "metadata": {
        "id": "fcdcd477"
      },
      "source": [
        "### 7. Percentage expenditure"
      ],
      "id": "fcdcd477"
    },
    {
      "cell_type": "code",
      "execution_count": null,
      "metadata": {
        "id": "4cbffa5e"
      },
      "outputs": [],
      "source": [
        "df.rename(columns = {'percentage expenditure':'percentage_expenditure'}, inplace=True)"
      ],
      "id": "4cbffa5e"
    },
    {
      "cell_type": "code",
      "execution_count": null,
      "metadata": {
        "colab": {
          "base_uri": "https://localhost:8080/"
        },
        "id": "6ba31de4",
        "outputId": "17ac4ccc-b42c-4ca6-b31a-fb62937987c9"
      },
      "outputs": [
        {
          "output_type": "execute_result",
          "data": {
            "text/plain": [
              "0"
            ]
          },
          "metadata": {},
          "execution_count": 44
        }
      ],
      "source": [
        "df.percentage_expenditure.isnull().sum()"
      ],
      "id": "6ba31de4"
    },
    {
      "cell_type": "code",
      "execution_count": null,
      "metadata": {
        "colab": {
          "base_uri": "https://localhost:8080/"
        },
        "id": "16af0c01",
        "outputId": "1701f5db-35f6-4c89-a59b-5e9c166cd598"
      },
      "outputs": [
        {
          "output_type": "execute_result",
          "data": {
            "text/plain": [
              "<Axes: xlabel='percentage_expenditure', ylabel='Density'>"
            ]
          },
          "metadata": {},
          "execution_count": 45
        },
        {
          "output_type": "display_data",
          "data": {
            "text/plain": [
              "<Figure size 640x480 with 1 Axes>"
            ],
            "image/png": "[encoded data removed]"
          },
          "metadata": {}
        }
      ],
      "source": [
        "sns.distplot(df.percentage_expenditure)"
      ],
      "id": "16af0c01"
    },
    {
      "cell_type": "code",
      "execution_count": null,
      "metadata": {
        "colab": {
          "base_uri": "https://localhost:8080/"
        },
        "id": "35418750",
        "outputId": "e6729d4a-6233-4699-c7a1-6cb8a87e6fa3"
      },
      "outputs": [
        {
          "output_type": "stream",
          "name": "stdout",
          "text": [
            "Pearsons Correlation: 0.381\n"
          ]
        }
      ],
      "source": [
        "corr,_ = pearsonr(df.percentage_expenditure, df.Life_expectancy)\n",
        "print('Pearsons Correlation: %.3f'%corr)"
      ],
      "id": "35418750"
    },
    {
      "cell_type": "markdown",
      "metadata": {
        "id": "abec0474"
      },
      "source": [
        "There is a positive correlation between Percentage Expenditure and Life Expectancy"
      ],
      "id": "abec0474"
    },
    {
      "cell_type": "markdown",
      "metadata": {
        "id": "674c5035"
      },
      "source": [
        "### 8. Hepatitis B"
      ],
      "id": "674c5035"
    },
    {
      "cell_type": "code",
      "execution_count": null,
      "metadata": {
        "id": "60da7348"
      },
      "outputs": [],
      "source": [
        "df.rename(columns = {'Hepatitis B':'hepatitis_b'}, inplace=True)"
      ],
      "id": "60da7348"
    },
    {
      "cell_type": "code",
      "execution_count": null,
      "metadata": {
        "colab": {
          "base_uri": "https://localhost:8080/"
        },
        "id": "aad09a6a",
        "outputId": "cc2b33ba-80b6-42cc-fd82-8762da9fb651"
      },
      "outputs": [
        {
          "output_type": "execute_result",
          "data": {
            "text/plain": [
              "553"
            ]
          },
          "metadata": {},
          "execution_count": 48
        }
      ],
      "source": [
        "df.hepatitis_b.isnull().sum()"
      ],
      "id": "aad09a6a"
    },
    {
      "cell_type": "code",
      "execution_count": null,
      "metadata": {
        "colab": {
          "base_uri": "https://localhost:8080/"
        },
        "id": "496731ad",
        "outputId": "fb581795-923c-41e8-dff8-a277d6e8b4b7"
      },
      "outputs": [
        {
          "output_type": "execute_result",
          "data": {
            "text/plain": [
              "0"
            ]
          },
          "metadata": {},
          "execution_count": 49
        }
      ],
      "source": [
        "df['hepatitis_b'] = df['hepatitis_b'].fillna(df['hepatitis_b'].median())\n",
        "df.hepatitis_b.isnull().sum()"
      ],
      "id": "496731ad"
    },
    {
      "cell_type": "code",
      "execution_count": null,
      "metadata": {
        "colab": {
          "base_uri": "https://localhost:8080/"
        },
        "id": "4d253704",
        "outputId": "119e78bd-db24-47e6-8ac0-518fd510cabf",
        "scrolled": true
      },
      "outputs": [
        {
          "output_type": "execute_result",
          "data": {
            "text/plain": [
              "<Axes: xlabel='hepatitis_b', ylabel='Density'>"
            ]
          },
          "metadata": {},
          "execution_count": 50
        },
        {
          "output_type": "display_data",
          "data": {
            "text/plain": [
              "<Figure size 640x480 with 1 Axes>"
            ],
            "image/png": "[encoded data removed]"
          },
          "metadata": {}
        }
      ],
      "source": [
        "sns.distplot(df.hepatitis_b)"
      ],
      "id": "4d253704"
    },
    {
      "cell_type": "code",
      "execution_count": null,
      "metadata": {
        "colab": {
          "base_uri": "https://localhost:8080/"
        },
        "id": "f9b5269f",
        "outputId": "7b1644d9-3a7f-41ab-858e-b1416def7f3d"
      },
      "outputs": [
        {
          "output_type": "stream",
          "name": "stdout",
          "text": [
            "Pearsons Correlation: 0.170\n"
          ]
        }
      ],
      "source": [
        "corr,_ = pearsonr(df.hepatitis_b, df.Life_expectancy)\n",
        "print('Pearsons Correlation: %.3f'%corr)"
      ],
      "id": "f9b5269f"
    },
    {
      "cell_type": "markdown",
      "metadata": {
        "id": "2d17b7e2"
      },
      "source": [
        "Positive correlation between Hepatitis b and Life expectancy"
      ],
      "id": "2d17b7e2"
    },
    {
      "cell_type": "markdown",
      "metadata": {
        "id": "9ba46000"
      },
      "source": [
        "### 9. Measles"
      ],
      "id": "9ba46000"
    },
    {
      "cell_type": "code",
      "execution_count": null,
      "metadata": {
        "id": "20da84c4"
      },
      "outputs": [],
      "source": [
        "df.rename(columns = {\"Measles \":\"Measles\"}, inplace=True)"
      ],
      "id": "20da84c4"
    },
    {
      "cell_type": "code",
      "execution_count": null,
      "metadata": {
        "colab": {
          "base_uri": "https://localhost:8080/"
        },
        "id": "70990084",
        "outputId": "ae7b85ce-2093-4c31-e440-50f3bd9504b9"
      },
      "outputs": [
        {
          "output_type": "execute_result",
          "data": {
            "text/plain": [
              "0"
            ]
          },
          "metadata": {},
          "execution_count": 53
        }
      ],
      "source": [
        "df.Measles.isnull().sum()"
      ],
      "id": "70990084"
    },
    {
      "cell_type": "code",
      "execution_count": null,
      "metadata": {
        "colab": {
          "base_uri": "https://localhost:8080/"
        },
        "id": "73c85228",
        "outputId": "0e6925ca-11e1-4ec4-a818-7fa74bc9980e",
        "scrolled": true
      },
      "outputs": [
        {
          "output_type": "execute_result",
          "data": {
            "text/plain": [
              "<Axes: xlabel='Measles', ylabel='Density'>"
            ]
          },
          "metadata": {},
          "execution_count": 54
        },
        {
          "output_type": "display_data",
          "data": {
            "text/plain": [
              "<Figure size 640x480 with 1 Axes>"
            ],
            "image/png": "[encoded data removed]"
          },
          "metadata": {}
        }
      ],
      "source": [
        "sns.distplot(df.Measles)"
      ],
      "id": "73c85228"
    },
    {
      "cell_type": "code",
      "execution_count": null,
      "metadata": {
        "colab": {
          "base_uri": "https://localhost:8080/"
        },
        "id": "1d241011",
        "outputId": "3a7ec8ee-3e86-4b42-8d4b-946e01affcf1"
      },
      "outputs": [
        {
          "output_type": "stream",
          "name": "stdout",
          "text": [
            "Pearsons Correlation: -0.158\n"
          ]
        }
      ],
      "source": [
        "corr,_ = pearsonr(df.Measles, df.Life_expectancy)\n",
        "print('Pearsons Correlation: %.3f'%corr)"
      ],
      "id": "1d241011"
    },
    {
      "cell_type": "markdown",
      "metadata": {
        "id": "91c45d3d"
      },
      "source": [
        "Negative Correlation between Measles and Life Expectancy"
      ],
      "id": "91c45d3d"
    },
    {
      "cell_type": "markdown",
      "metadata": {
        "id": "8cf8ba73"
      },
      "source": [
        "### 10. BMI"
      ],
      "id": "8cf8ba73"
    },
    {
      "cell_type": "code",
      "execution_count": null,
      "metadata": {
        "id": "e74f0eb9"
      },
      "outputs": [],
      "source": [
        "df.rename(columns = {\" BMI \" :\"bmi\"}, inplace=True)"
      ],
      "id": "e74f0eb9"
    },
    {
      "cell_type": "code",
      "execution_count": null,
      "metadata": {
        "colab": {
          "base_uri": "https://localhost:8080/"
        },
        "id": "3208df56",
        "outputId": "56bdbdc3-6f00-47c8-89e3-bb3b4add4626"
      },
      "outputs": [
        {
          "output_type": "execute_result",
          "data": {
            "text/plain": [
              "34"
            ]
          },
          "metadata": {},
          "execution_count": 57
        }
      ],
      "source": [
        "df.bmi.isnull().sum()"
      ],
      "id": "3208df56"
    },
    {
      "cell_type": "code",
      "execution_count": null,
      "metadata": {
        "colab": {
          "base_uri": "https://localhost:8080/"
        },
        "id": "5e1b6932",
        "outputId": "d256adb2-8d24-47f3-8c56-7cccb87bc0fa"
      },
      "outputs": [
        {
          "output_type": "execute_result",
          "data": {
            "text/plain": [
              "0"
            ]
          },
          "metadata": {},
          "execution_count": 58
        }
      ],
      "source": [
        "df['bmi'] = df['bmi'].fillna(df.bmi.median())\n",
        "df.bmi.isnull().sum()"
      ],
      "id": "5e1b6932"
    },
    {
      "cell_type": "code",
      "execution_count": null,
      "metadata": {
        "colab": {
          "base_uri": "https://localhost:8080/"
        },
        "id": "df6b9fe1",
        "outputId": "e83adeea-c86a-4fe0-a5fe-336957994615"
      },
      "outputs": [
        {
          "output_type": "execute_result",
          "data": {
            "text/plain": [
              "<Axes: xlabel='bmi', ylabel='Density'>"
            ]
          },
          "metadata": {},
          "execution_count": 59
        },
        {
          "output_type": "display_data",
          "data": {
            "text/plain": [
              "<Figure size 640x480 with 1 Axes>"
            ],
            "image/png": "[encoded data removed]"
          },
          "metadata": {}
        }
      ],
      "source": [
        "sns.distplot(df.bmi)"
      ],
      "id": "df6b9fe1"
    },
    {
      "cell_type": "code",
      "execution_count": null,
      "metadata": {
        "colab": {
          "base_uri": "https://localhost:8080/"
        },
        "id": "fb791a5f",
        "outputId": "9c5605ed-c944-4367-ff13-e79aa9273470"
      },
      "outputs": [
        {
          "output_type": "stream",
          "name": "stdout",
          "text": [
            "Pearsons correlation: 0.557\n"
          ]
        }
      ],
      "source": [
        "corr,_ = pearsonr(df.bmi ,df.Life_expectancy)\n",
        "print('Pearsons correlation: %.3f' %corr)"
      ],
      "id": "fb791a5f"
    },
    {
      "cell_type": "markdown",
      "metadata": {
        "id": "ed90c62e"
      },
      "source": [
        "Positive Correlation between BMI and Life Expectancy"
      ],
      "id": "ed90c62e"
    },
    {
      "cell_type": "markdown",
      "metadata": {
        "id": "7cc4df7f"
      },
      "source": [
        "### 11. under-five deaths"
      ],
      "id": "7cc4df7f"
    },
    {
      "cell_type": "code",
      "execution_count": null,
      "metadata": {
        "id": "6f3ab9bb"
      },
      "outputs": [],
      "source": [
        "df.rename(columns = { \"under-five deaths \": \"under_five_deaths\"}, inplace = True)"
      ],
      "id": "6f3ab9bb"
    },
    {
      "cell_type": "code",
      "execution_count": null,
      "metadata": {
        "colab": {
          "base_uri": "https://localhost:8080/"
        },
        "id": "5fe11872",
        "outputId": "2f84c05f-3093-41e8-886d-5a5c5067ca68"
      },
      "outputs": [
        {
          "output_type": "execute_result",
          "data": {
            "text/plain": [
              "0"
            ]
          },
          "metadata": {},
          "execution_count": 62
        }
      ],
      "source": [
        "df.under_five_deaths.isnull().sum()"
      ],
      "id": "5fe11872"
    },
    {
      "cell_type": "code",
      "execution_count": null,
      "metadata": {
        "colab": {
          "base_uri": "https://localhost:8080/"
        },
        "id": "ad0fd5e0",
        "outputId": "d81f837c-611c-40b4-f4c0-144579a61fbc"
      },
      "outputs": [
        {
          "output_type": "execute_result",
          "data": {
            "text/plain": [
              "<Axes: xlabel='under_five_deaths', ylabel='Density'>"
            ]
          },
          "metadata": {},
          "execution_count": 63
        },
        {
          "output_type": "display_data",
          "data": {
            "text/plain": [
              "<Figure size 640x480 with 1 Axes>"
            ],
            "image/png": "[encoded data removed]"
          },
          "metadata": {}
        }
      ],
      "source": [
        "sns.distplot(df.under_five_deaths)"
      ],
      "id": "ad0fd5e0"
    },
    {
      "cell_type": "code",
      "execution_count": null,
      "metadata": {
        "colab": {
          "base_uri": "https://localhost:8080/"
        },
        "id": "d86e39aa",
        "outputId": "96e9c3a9-819d-4e5f-a511-7fc496366d32"
      },
      "outputs": [
        {
          "output_type": "stream",
          "name": "stdout",
          "text": [
            "Pearsons correlation: -0.223\n"
          ]
        }
      ],
      "source": [
        "corr,_ = pearsonr(df.under_five_deaths ,df.Life_expectancy)\n",
        "print('Pearsons correlation: %.3f' %corr)"
      ],
      "id": "d86e39aa"
    },
    {
      "cell_type": "markdown",
      "metadata": {
        "id": "8f6668eb"
      },
      "source": [
        "Negative Correlation between Under five Deaths and Life expectancy"
      ],
      "id": "8f6668eb"
    },
    {
      "cell_type": "markdown",
      "metadata": {
        "id": "154acaf5"
      },
      "source": [
        "### 12. Polio"
      ],
      "id": "154acaf5"
    },
    {
      "cell_type": "code",
      "execution_count": null,
      "metadata": {
        "colab": {
          "base_uri": "https://localhost:8080/"
        },
        "id": "71b1634a",
        "outputId": "11165d8e-35e5-4251-e987-9bfb990fcbd7"
      },
      "outputs": [
        {
          "output_type": "execute_result",
          "data": {
            "text/plain": [
              "19"
            ]
          },
          "metadata": {},
          "execution_count": 65
        }
      ],
      "source": [
        "df.Polio.isnull().sum()"
      ],
      "id": "71b1634a"
    },
    {
      "cell_type": "code",
      "execution_count": null,
      "metadata": {
        "colab": {
          "base_uri": "https://localhost:8080/"
        },
        "id": "779d5996",
        "outputId": "69a465f8-ca11-473c-91f5-7cf58428c835"
      },
      "outputs": [
        {
          "output_type": "execute_result",
          "data": {
            "text/plain": [
              "0"
            ]
          },
          "metadata": {},
          "execution_count": 66
        }
      ],
      "source": [
        "df.Polio = df.Polio.fillna(df.Polio.median())\n",
        "df.Polio.isnull().sum()"
      ],
      "id": "779d5996"
    },
    {
      "cell_type": "code",
      "execution_count": null,
      "metadata": {
        "colab": {
          "base_uri": "https://localhost:8080/"
        },
        "id": "cb61d803",
        "outputId": "581698be-3363-4538-ad94-2287414bc557"
      },
      "outputs": [
        {
          "output_type": "execute_result",
          "data": {
            "text/plain": [
              "<Axes: xlabel='Polio', ylabel='Density'>"
            ]
          },
          "metadata": {},
          "execution_count": 67
        },
        {
          "output_type": "display_data",
          "data": {
            "text/plain": [
              "<Figure size 640x480 with 1 Axes>"
            ],
            "image/png": "[encoded data removed]"
          },
          "metadata": {}
        }
      ],
      "source": [
        "sns.distplot(df.Polio)"
      ],
      "id": "cb61d803"
    },
    {
      "cell_type": "code",
      "execution_count": null,
      "metadata": {
        "colab": {
          "base_uri": "https://localhost:8080/"
        },
        "id": "88fd5284",
        "outputId": "114c4da1-515f-4ed6-cf45-5df9a952ca9b"
      },
      "outputs": [
        {
          "output_type": "stream",
          "name": "stdout",
          "text": [
            "Pearsons correlation: 0.458\n"
          ]
        }
      ],
      "source": [
        "corr,_ = pearsonr(df.Polio ,df.Life_expectancy)\n",
        "print('Pearsons correlation: %.3f' %corr)"
      ],
      "id": "88fd5284"
    },
    {
      "cell_type": "markdown",
      "metadata": {
        "id": "4e336f1a"
      },
      "source": [
        "Positive correlation between Polio and Life expectancy means If a person get affected by Polio his Life expectancy increases that means he will be more exposed to getting sick"
      ],
      "id": "4e336f1a"
    },
    {
      "cell_type": "markdown",
      "metadata": {
        "id": "97334788"
      },
      "source": [
        "### 13. Total expenditure"
      ],
      "id": "97334788"
    },
    {
      "cell_type": "code",
      "execution_count": null,
      "metadata": {
        "id": "6ae57e18"
      },
      "outputs": [],
      "source": [
        "df.rename(columns = {\"Total expenditure\":\"total_expenditure\"}, inplace = True)"
      ],
      "id": "6ae57e18"
    },
    {
      "cell_type": "code",
      "execution_count": null,
      "metadata": {
        "colab": {
          "base_uri": "https://localhost:8080/"
        },
        "id": "7248f4d9",
        "outputId": "261729f1-a9ff-4ea3-8f2b-af096fcba44e"
      },
      "outputs": [
        {
          "output_type": "execute_result",
          "data": {
            "text/plain": [
              "226"
            ]
          },
          "metadata": {},
          "execution_count": 70
        }
      ],
      "source": [
        "df.total_expenditure.isnull().sum()"
      ],
      "id": "7248f4d9"
    },
    {
      "cell_type": "code",
      "execution_count": null,
      "metadata": {
        "colab": {
          "base_uri": "https://localhost:8080/"
        },
        "id": "17d26fe2",
        "outputId": "3d114091-6130-4356-e129-400db83d26a4"
      },
      "outputs": [
        {
          "output_type": "execute_result",
          "data": {
            "text/plain": [
              "0"
            ]
          },
          "metadata": {},
          "execution_count": 71
        }
      ],
      "source": [
        "df.total_expenditure = df.total_expenditure.fillna(df.total_expenditure.median())\n",
        "df.total_expenditure.isnull().sum()"
      ],
      "id": "17d26fe2"
    },
    {
      "cell_type": "code",
      "execution_count": null,
      "metadata": {
        "colab": {
          "base_uri": "https://localhost:8080/"
        },
        "id": "9c4dd46b",
        "outputId": "062c6977-7ddb-4b1e-df19-de17be4d9dbd"
      },
      "outputs": [
        {
          "output_type": "execute_result",
          "data": {
            "text/plain": [
              "<Axes: xlabel='total_expenditure', ylabel='Density'>"
            ]
          },
          "metadata": {},
          "execution_count": 72
        },
        {
          "output_type": "display_data",
          "data": {
            "text/plain": [
              "<Figure size 640x480 with 1 Axes>"
            ],
            "image/png": "[encoded data removed]"
          },
          "metadata": {}
        }
      ],
      "source": [
        "sns.distplot(df.total_expenditure)"
      ],
      "id": "9c4dd46b"
    },
    {
      "cell_type": "code",
      "execution_count": null,
      "metadata": {
        "colab": {
          "base_uri": "https://localhost:8080/"
        },
        "id": "957a996d",
        "outputId": "5ec09fe1-d672-4120-96a5-243a2812daf8"
      },
      "outputs": [
        {
          "output_type": "stream",
          "name": "stdout",
          "text": [
            "Pearsons Correlation: 0.209\n"
          ]
        }
      ],
      "source": [
        "corr,_ = pearsonr(df.total_expenditure, df.Life_expectancy)\n",
        "print('Pearsons Correlation: %.3f'%corr)"
      ],
      "id": "957a996d"
    },
    {
      "cell_type": "markdown",
      "metadata": {
        "id": "ca027eb8"
      },
      "source": [
        "Postive Correlation between Total Expenditure and Life expectancy"
      ],
      "id": "ca027eb8"
    },
    {
      "cell_type": "markdown",
      "metadata": {
        "id": "1892d04a"
      },
      "source": [
        "### 14. Diptheria"
      ],
      "id": "1892d04a"
    },
    {
      "cell_type": "code",
      "execution_count": null,
      "metadata": {
        "id": "bcbc475d"
      },
      "outputs": [],
      "source": [
        "df.rename(columns = {\"Diphtheria \": \"diphtheria\"}, inplace = True)"
      ],
      "id": "bcbc475d"
    },
    {
      "cell_type": "code",
      "execution_count": null,
      "metadata": {
        "colab": {
          "base_uri": "https://localhost:8080/"
        },
        "id": "62ca8b22",
        "outputId": "ff3728b9-ac6f-45bc-c12d-6bf8ac1089a3"
      },
      "outputs": [
        {
          "output_type": "execute_result",
          "data": {
            "text/plain": [
              "19"
            ]
          },
          "metadata": {},
          "execution_count": 75
        }
      ],
      "source": [
        "df.diphtheria.isnull().sum()"
      ],
      "id": "62ca8b22"
    },
    {
      "cell_type": "code",
      "execution_count": null,
      "metadata": {
        "colab": {
          "base_uri": "https://localhost:8080/"
        },
        "id": "a87c500c",
        "outputId": "83a07385-249c-41b5-fce6-73aafdaea37a"
      },
      "outputs": [
        {
          "output_type": "execute_result",
          "data": {
            "text/plain": [
              "0"
            ]
          },
          "metadata": {},
          "execution_count": 76
        }
      ],
      "source": [
        "df.diphtheria = df.diphtheria.fillna(df.diphtheria.median())\n",
        "df.diphtheria.isnull().sum()"
      ],
      "id": "a87c500c"
    },
    {
      "cell_type": "code",
      "execution_count": null,
      "metadata": {
        "colab": {
          "base_uri": "https://localhost:8080/"
        },
        "id": "3719bc33",
        "outputId": "85ce0889-8685-4da6-9d6c-6fe0c582effd"
      },
      "outputs": [
        {
          "output_type": "execute_result",
          "data": {
            "text/plain": [
              "<Axes: xlabel='diphtheria', ylabel='Density'>"
            ]
          },
          "metadata": {},
          "execution_count": 77
        },
        {
          "output_type": "display_data",
          "data": {
            "text/plain": [
              "<Figure size 640x480 with 1 Axes>"
            ],
            "image/png": "[encoded data removed]"
          },
          "metadata": {}
        }
      ],
      "source": [
        "sns.distplot(df.diphtheria)"
      ],
      "id": "3719bc33"
    },
    {
      "cell_type": "code",
      "execution_count": null,
      "metadata": {
        "colab": {
          "base_uri": "https://localhost:8080/"
        },
        "id": "43869411",
        "outputId": "521482cb-ad7b-4e8d-f07c-e8c88446ac71"
      },
      "outputs": [
        {
          "output_type": "stream",
          "name": "stdout",
          "text": [
            "Pearsons Correlation: 0.472\n"
          ]
        }
      ],
      "source": [
        "corr,_ = pearsonr(df.diphtheria, df.Life_expectancy)\n",
        "print('Pearsons Correlation: %.3f'%corr)"
      ],
      "id": "43869411"
    },
    {
      "cell_type": "markdown",
      "metadata": {
        "id": "2ca34211"
      },
      "source": [
        "Positive correlation between Diphtheria and Life expectancy"
      ],
      "id": "2ca34211"
    },
    {
      "cell_type": "markdown",
      "metadata": {
        "id": "c777a6b9"
      },
      "source": [
        "### 15. HIV/AIDS"
      ],
      "id": "c777a6b9"
    },
    {
      "cell_type": "code",
      "execution_count": null,
      "metadata": {
        "id": "5fc53693"
      },
      "outputs": [],
      "source": [
        "df.rename(columns = {\" HIV/AIDS\":\"hiv_aids\"}, inplace = True)"
      ],
      "id": "5fc53693"
    },
    {
      "cell_type": "code",
      "execution_count": null,
      "metadata": {
        "colab": {
          "base_uri": "https://localhost:8080/"
        },
        "id": "d772a5ef",
        "outputId": "03fab8d4-b544-4923-f958-5fbecab4959a"
      },
      "outputs": [
        {
          "output_type": "execute_result",
          "data": {
            "text/plain": [
              "0"
            ]
          },
          "metadata": {},
          "execution_count": 80
        }
      ],
      "source": [
        "df.hiv_aids.isnull().sum()"
      ],
      "id": "d772a5ef"
    },
    {
      "cell_type": "code",
      "execution_count": null,
      "metadata": {
        "colab": {
          "base_uri": "https://localhost:8080/"
        },
        "id": "b6006b41",
        "outputId": "8894bdd2-b39f-4dc5-df1e-fc7088c2479e"
      },
      "outputs": [
        {
          "output_type": "execute_result",
          "data": {
            "text/plain": [
              "<Axes: xlabel='hiv_aids', ylabel='Density'>"
            ]
          },
          "metadata": {},
          "execution_count": 81
        },
        {
          "output_type": "display_data",
          "data": {
            "text/plain": [
              "<Figure size 640x480 with 1 Axes>"
            ],
            "image/png": "[encoded data removed]"
          },
          "metadata": {}
        }
      ],
      "source": [
        "sns.distplot(df.hiv_aids)"
      ],
      "id": "b6006b41"
    },
    {
      "cell_type": "code",
      "execution_count": null,
      "metadata": {
        "colab": {
          "base_uri": "https://localhost:8080/"
        },
        "id": "bc6eb1e1",
        "outputId": "6f60d309-c65a-43d5-9459-198dbfe0d91b",
        "scrolled": true
      },
      "outputs": [
        {
          "output_type": "stream",
          "name": "stdout",
          "text": [
            "Pearsons Correlation: -0.557\n"
          ]
        }
      ],
      "source": [
        "corr,_ = pearsonr(df.hiv_aids, df.Life_expectancy)\n",
        "print('Pearsons Correlation: %.3f'%corr)"
      ],
      "id": "bc6eb1e1"
    },
    {
      "cell_type": "markdown",
      "metadata": {
        "id": "8efed49a"
      },
      "source": [
        "Negative Correlation between Hiv/Aids and Life Expectancy"
      ],
      "id": "8efed49a"
    },
    {
      "cell_type": "markdown",
      "metadata": {
        "id": "804f15d8"
      },
      "source": [
        "### 16. GDP"
      ],
      "id": "804f15d8"
    },
    {
      "cell_type": "code",
      "execution_count": null,
      "metadata": {
        "colab": {
          "base_uri": "https://localhost:8080/"
        },
        "id": "630daf10",
        "outputId": "dc30b256-8d6e-485e-ae6e-5ed9e2cc2c90"
      },
      "outputs": [
        {
          "output_type": "execute_result",
          "data": {
            "text/plain": [
              "448"
            ]
          },
          "metadata": {},
          "execution_count": 83
        }
      ],
      "source": [
        "df.GDP.isnull().sum()"
      ],
      "id": "630daf10"
    },
    {
      "cell_type": "code",
      "execution_count": null,
      "metadata": {
        "colab": {
          "base_uri": "https://localhost:8080/"
        },
        "id": "52e94601",
        "outputId": "299e3165-b1e2-4225-ff42-452eba4f1048"
      },
      "outputs": [
        {
          "output_type": "execute_result",
          "data": {
            "text/plain": [
              "0"
            ]
          },
          "metadata": {},
          "execution_count": 84
        }
      ],
      "source": [
        "df.GDP = df.GDP.fillna(df.GDP.median())\n",
        "df.GDP.isnull().sum()"
      ],
      "id": "52e94601"
    },
    {
      "cell_type": "code",
      "execution_count": null,
      "metadata": {
        "colab": {
          "base_uri": "https://localhost:8080/"
        },
        "id": "0b4442df",
        "outputId": "f85726ce-2b56-4d11-9d39-28c44bdb76ea"
      },
      "outputs": [
        {
          "output_type": "execute_result",
          "data": {
            "text/plain": [
              "<Axes: xlabel='GDP', ylabel='Density'>"
            ]
          },
          "metadata": {},
          "execution_count": 85
        },
        {
          "output_type": "display_data",
          "data": {
            "text/plain": [
              "<Figure size 640x480 with 1 Axes>"
            ],
            "image/png": "[encoded data removed]"
          },
          "metadata": {}
        }
      ],
      "source": [
        "sns.distplot(df.GDP)"
      ],
      "id": "0b4442df"
    },
    {
      "cell_type": "code",
      "execution_count": null,
      "metadata": {
        "colab": {
          "base_uri": "https://localhost:8080/"
        },
        "id": "a318308b",
        "outputId": "02551100-4a5f-4eb5-e157-e35f6d95791f"
      },
      "outputs": [
        {
          "output_type": "stream",
          "name": "stdout",
          "text": [
            "Pearsons Correlation: 0.430\n"
          ]
        }
      ],
      "source": [
        "corr,_ = pearsonr(df.GDP, df.Life_expectancy)\n",
        "print('Pearsons Correlation: %.3f'%corr)"
      ],
      "id": "a318308b"
    },
    {
      "cell_type": "markdown",
      "metadata": {
        "id": "e06caa81"
      },
      "source": [
        "Positive Correlation between GDP and Life Expectancy"
      ],
      "id": "e06caa81"
    },
    {
      "cell_type": "markdown",
      "metadata": {
        "id": "27b8bf13"
      },
      "source": [
        "### 17. Population"
      ],
      "id": "27b8bf13"
    },
    {
      "cell_type": "code",
      "execution_count": null,
      "metadata": {
        "colab": {
          "base_uri": "https://localhost:8080/"
        },
        "id": "67c6a205",
        "outputId": "14e24aeb-89d7-42ca-b7a3-6b535a851a5a"
      },
      "outputs": [
        {
          "output_type": "execute_result",
          "data": {
            "text/plain": [
              "652"
            ]
          },
          "metadata": {},
          "execution_count": 87
        }
      ],
      "source": [
        "df.Population.isnull().sum()"
      ],
      "id": "67c6a205"
    },
    {
      "cell_type": "code",
      "execution_count": null,
      "metadata": {
        "colab": {
          "base_uri": "https://localhost:8080/"
        },
        "id": "58827a2b",
        "outputId": "eb17f2d1-6ee5-463e-ff88-dfaaef0332f8"
      },
      "outputs": [
        {
          "output_type": "execute_result",
          "data": {
            "text/plain": [
              "0"
            ]
          },
          "metadata": {},
          "execution_count": 88
        }
      ],
      "source": [
        "df.Population = df.Population.fillna(df.Population.median())\n",
        "df.Population.isnull().sum()"
      ],
      "id": "58827a2b"
    },
    {
      "cell_type": "code",
      "execution_count": null,
      "metadata": {
        "colab": {
          "base_uri": "https://localhost:8080/",
          "height": 482
        },
        "id": "41f3f93b",
        "outputId": "fa030949-53f8-4575-b33d-ac9c4c355578"
      },
      "outputs": [
        {
          "output_type": "execute_result",
          "data": {
            "text/plain": [
              "<Axes: xlabel='Population', ylabel='Density'>"
            ]
          },
          "metadata": {},
          "execution_count": 89
        },
        {
          "output_type": "display_data",
          "data": {
            "text/plain": [
              "<Figure size 640x480 with 1 Axes>"
            ],
            "image/png": "[encoded data removed]"
          },
          "metadata": {}
        }
      ],
      "source": [
        "sns.distplot(df.Population)"
      ],
      "id": "41f3f93b"
    },
    {
      "cell_type": "code",
      "execution_count": null,
      "metadata": {
        "colab": {
          "base_uri": "https://localhost:8080/"
        },
        "id": "c4699eca",
        "outputId": "3f2c2675-4b5c-43ae-d03b-855d918a85df"
      },
      "outputs": [
        {
          "output_type": "stream",
          "name": "stdout",
          "text": [
            "Pearsons Correlation: -0.029\n"
          ]
        }
      ],
      "source": [
        "corr,_ = pearsonr(df.Population, df.Life_expectancy)\n",
        "print('Pearsons Correlation: %.3f'%corr)"
      ],
      "id": "c4699eca"
    },
    {
      "cell_type": "markdown",
      "metadata": {
        "id": "3133fb97"
      },
      "source": [
        "Negative Correlation between  Population and Life expectancy"
      ],
      "id": "3133fb97"
    },
    {
      "cell_type": "markdown",
      "metadata": {
        "id": "a179188c"
      },
      "source": [
        "### 18. thinness 1-19 years"
      ],
      "id": "a179188c"
    },
    {
      "cell_type": "code",
      "execution_count": null,
      "metadata": {
        "id": "d41bfa58"
      },
      "outputs": [],
      "source": [
        "df.rename(columns = {\" thinness  1-19 years\":\"thinness_1_19_years\"}, inplace = True)"
      ],
      "id": "d41bfa58"
    },
    {
      "cell_type": "code",
      "execution_count": null,
      "metadata": {
        "colab": {
          "base_uri": "https://localhost:8080/"
        },
        "id": "a046f9f2",
        "outputId": "9d1d82ba-91e7-4857-b60b-de816cf85b9e"
      },
      "outputs": [
        {
          "output_type": "execute_result",
          "data": {
            "text/plain": [
              "34"
            ]
          },
          "metadata": {},
          "execution_count": 92
        }
      ],
      "source": [
        "df.thinness_1_19_years.isnull().sum()"
      ],
      "id": "a046f9f2"
    },
    {
      "cell_type": "code",
      "execution_count": null,
      "metadata": {
        "colab": {
          "base_uri": "https://localhost:8080/"
        },
        "id": "fa9fcf5b",
        "outputId": "db4ea30d-05ce-47a3-fdc1-4ab8d476e4de"
      },
      "outputs": [
        {
          "output_type": "execute_result",
          "data": {
            "text/plain": [
              "0"
            ]
          },
          "metadata": {},
          "execution_count": 93
        }
      ],
      "source": [
        "df.thinness_1_19_years = df.thinness_1_19_years.fillna(df.thinness_1_19_years.median())\n",
        "df.thinness_1_19_years.isnull().sum()"
      ],
      "id": "fa9fcf5b"
    },
    {
      "cell_type": "code",
      "execution_count": null,
      "metadata": {
        "colab": {
          "base_uri": "https://localhost:8080/",
          "height": 467
        },
        "id": "00d46c6c",
        "outputId": "95e3873f-f374-4203-8ae6-1a847794011c"
      },
      "outputs": [
        {
          "output_type": "execute_result",
          "data": {
            "text/plain": [
              "<Axes: xlabel='thinness_1_19_years', ylabel='Density'>"
            ]
          },
          "metadata": {},
          "execution_count": 94
        },
        {
          "output_type": "display_data",
          "data": {
            "text/plain": [
              "<Figure size 640x480 with 1 Axes>"
            ],
            "image/png": "[encoded data removed]"
          },
          "metadata": {}
        }
      ],
      "source": [
        "sns.distplot(df.thinness_1_19_years)"
      ],
      "id": "00d46c6c"
    },
    {
      "cell_type": "code",
      "execution_count": null,
      "metadata": {
        "colab": {
          "base_uri": "https://localhost:8080/"
        },
        "id": "ca47ac3a",
        "outputId": "d612c3e0-e3d0-4bcb-c175-ae116f3b1b9a"
      },
      "outputs": [
        {
          "output_type": "stream",
          "name": "stdout",
          "text": [
            "Pearsons Correlation: -0.468\n"
          ]
        }
      ],
      "source": [
        "corr,_ = pearsonr(df.thinness_1_19_years, df.Life_expectancy)\n",
        "print('Pearsons Correlation: %.3f'%corr)"
      ],
      "id": "ca47ac3a"
    },
    {
      "cell_type": "markdown",
      "metadata": {
        "id": "76b0ce2b"
      },
      "source": [
        "Negative Correlation between thinnes 1-19 and Life expectancy"
      ],
      "id": "76b0ce2b"
    },
    {
      "cell_type": "markdown",
      "metadata": {
        "id": "4e7fd072"
      },
      "source": [
        "### 19. Thinness 5-9 years"
      ],
      "id": "4e7fd072"
    },
    {
      "cell_type": "code",
      "execution_count": null,
      "metadata": {
        "id": "2b63a31a"
      },
      "outputs": [],
      "source": [
        "df.rename(columns = {\" thinness 5-9 years\":\"thinness_5_9_years\"}, inplace = True)"
      ],
      "id": "2b63a31a"
    },
    {
      "cell_type": "code",
      "execution_count": null,
      "metadata": {
        "colab": {
          "base_uri": "https://localhost:8080/"
        },
        "id": "34e3c8c0",
        "outputId": "0c98b9a7-ff64-4482-83d8-37c3faf1ce2e"
      },
      "outputs": [
        {
          "output_type": "execute_result",
          "data": {
            "text/plain": [
              "34"
            ]
          },
          "metadata": {},
          "execution_count": 97
        }
      ],
      "source": [
        "df.thinness_5_9_years.isnull().sum()"
      ],
      "id": "34e3c8c0"
    },
    {
      "cell_type": "code",
      "execution_count": null,
      "metadata": {
        "colab": {
          "base_uri": "https://localhost:8080/"
        },
        "id": "50dd21b1",
        "outputId": "69b2f964-3b78-4e26-d863-bdf9d0ced964"
      },
      "outputs": [
        {
          "output_type": "execute_result",
          "data": {
            "text/plain": [
              "0"
            ]
          },
          "metadata": {},
          "execution_count": 98
        }
      ],
      "source": [
        "df.thinness_5_9_years = df.thinness_5_9_years.fillna(df.thinness_5_9_years.median())\n",
        "df.thinness_5_9_years.isnull().sum()"
      ],
      "id": "50dd21b1"
    },
    {
      "cell_type": "code",
      "execution_count": null,
      "metadata": {
        "colab": {
          "base_uri": "https://localhost:8080/",
          "height": 467
        },
        "id": "1b30c770",
        "outputId": "777926db-bbf1-4847-86fb-1c6fd1a68ddd"
      },
      "outputs": [
        {
          "output_type": "execute_result",
          "data": {
            "text/plain": [
              "<Axes: xlabel='thinness_5_9_years', ylabel='Density'>"
            ]
          },
          "metadata": {},
          "execution_count": 99
        },
        {
          "output_type": "display_data",
          "data": {
            "text/plain": [
              "<Figure size 640x480 with 1 Axes>"
            ],
            "image/png": "[encoded data removed]"
          },
          "metadata": {}
        }
      ],
      "source": [
        "sns.distplot(df.thinness_5_9_years)"
      ],
      "id": "1b30c770"
    },
    {
      "cell_type": "code",
      "execution_count": null,
      "metadata": {
        "colab": {
          "base_uri": "https://localhost:8080/"
        },
        "id": "1797f97b",
        "outputId": "eef75955-cea3-4263-af63-76b3905fb7b4"
      },
      "outputs": [
        {
          "output_type": "stream",
          "name": "stdout",
          "text": [
            "Pearsons Correlation: -0.462\n"
          ]
        }
      ],
      "source": [
        "corr,_ = pearsonr(df.thinness_5_9_years, df.Life_expectancy)\n",
        "print('Pearsons Correlation: %.3f'%corr)"
      ],
      "id": "1797f97b"
    },
    {
      "cell_type": "markdown",
      "metadata": {
        "id": "2702f74d"
      },
      "source": [
        "### 20. Income Composition Of resources"
      ],
      "id": "2702f74d"
    },
    {
      "cell_type": "code",
      "execution_count": null,
      "metadata": {
        "id": "518a6754"
      },
      "outputs": [],
      "source": [
        "df.rename(columns = {\"Income composition of resources\":\"income_composition_of_resources\"}, inplace= True)"
      ],
      "id": "518a6754"
    },
    {
      "cell_type": "code",
      "execution_count": null,
      "metadata": {
        "colab": {
          "base_uri": "https://localhost:8080/"
        },
        "id": "7f031f5b",
        "outputId": "989a06b8-1251-4218-c87e-795fc7602c3f"
      },
      "outputs": [
        {
          "output_type": "execute_result",
          "data": {
            "text/plain": [
              "167"
            ]
          },
          "metadata": {},
          "execution_count": 102
        }
      ],
      "source": [
        "df.income_composition_of_resources.isnull().sum()"
      ],
      "id": "7f031f5b"
    },
    {
      "cell_type": "code",
      "execution_count": null,
      "metadata": {
        "colab": {
          "base_uri": "https://localhost:8080/"
        },
        "id": "0d220f01",
        "outputId": "eddddb17-b692-4238-ceae-1133b693c7bf"
      },
      "outputs": [
        {
          "output_type": "execute_result",
          "data": {
            "text/plain": [
              "0"
            ]
          },
          "metadata": {},
          "execution_count": 103
        }
      ],
      "source": [
        "df.income_composition_of_resources = df.income_composition_of_resources.fillna(df.income_composition_of_resources.median())\n",
        "df.income_composition_of_resources.isnull().sum()"
      ],
      "id": "0d220f01"
    },
    {
      "cell_type": "code",
      "execution_count": null,
      "metadata": {
        "colab": {
          "base_uri": "https://localhost:8080/",
          "height": 467
        },
        "id": "152dd49b",
        "outputId": "c3d9ca7e-5eaf-416c-c787-e23b14b1f2b9"
      },
      "outputs": [
        {
          "output_type": "execute_result",
          "data": {
            "text/plain": [
              "<Axes: xlabel='income_composition_of_resources', ylabel='Density'>"
            ]
          },
          "metadata": {},
          "execution_count": 104
        },
        {
          "output_type": "display_data",
          "data": {
            "text/plain": [
              "<Figure size 640x480 with 1 Axes>"
            ],
            "image/png": "[encoded data removed]"
          },
          "metadata": {}
        }
      ],
      "source": [
        "sns.distplot(df.income_composition_of_resources)"
      ],
      "id": "152dd49b"
    },
    {
      "cell_type": "code",
      "execution_count": null,
      "metadata": {
        "colab": {
          "base_uri": "https://localhost:8080/"
        },
        "id": "017550f4",
        "outputId": "fdd27e01-cf9b-430a-97c0-e56d83a261bc"
      },
      "outputs": [
        {
          "output_type": "stream",
          "name": "stdout",
          "text": [
            "Pearsons Correlation: 0.689\n"
          ]
        }
      ],
      "source": [
        "corr,_ = pearsonr(df.income_composition_of_resources, df.Life_expectancy)\n",
        "print('Pearsons Correlation: %.3f'%corr)"
      ],
      "id": "017550f4"
    },
    {
      "cell_type": "markdown",
      "metadata": {
        "id": "e3463dac"
      },
      "source": [
        "Positive correlation between imcome resource and life expectancy"
      ],
      "id": "e3463dac"
    },
    {
      "cell_type": "markdown",
      "metadata": {
        "id": "92ef0491"
      },
      "source": [
        "### 21. Schooling"
      ],
      "id": "92ef0491"
    },
    {
      "cell_type": "code",
      "execution_count": null,
      "metadata": {
        "colab": {
          "base_uri": "https://localhost:8080/"
        },
        "id": "24f6f0d3",
        "outputId": "3bbe87e3-bc94-4a46-db29-e8a4862236b3"
      },
      "outputs": [
        {
          "output_type": "execute_result",
          "data": {
            "text/plain": [
              "163"
            ]
          },
          "metadata": {},
          "execution_count": 106
        }
      ],
      "source": [
        "df.Schooling.isnull().sum()"
      ],
      "id": "24f6f0d3"
    },
    {
      "cell_type": "code",
      "execution_count": null,
      "metadata": {
        "colab": {
          "base_uri": "https://localhost:8080/"
        },
        "id": "ab1e23f1",
        "outputId": "a6438f13-34a1-43d9-be3e-4fa37a2a5264"
      },
      "outputs": [
        {
          "output_type": "execute_result",
          "data": {
            "text/plain": [
              "0"
            ]
          },
          "metadata": {},
          "execution_count": 107
        }
      ],
      "source": [
        "df.Schooling = df.Schooling.fillna(df.Schooling.median())\n",
        "df.Schooling.isnull().sum()"
      ],
      "id": "ab1e23f1"
    },
    {
      "cell_type": "code",
      "execution_count": null,
      "metadata": {
        "colab": {
          "base_uri": "https://localhost:8080/",
          "height": 466
        },
        "id": "02a0e461",
        "outputId": "e48e87ca-1641-46b7-ff76-9392174e6366"
      },
      "outputs": [
        {
          "output_type": "execute_result",
          "data": {
            "text/plain": [
              "<Axes: xlabel='Schooling', ylabel='Density'>"
            ]
          },
          "metadata": {},
          "execution_count": 108
        },
        {
          "output_type": "display_data",
          "data": {
            "text/plain": [
              "<Figure size 640x480 with 1 Axes>"
            ],
            "image/png": "[encoded data removed]"
          },
          "metadata": {}
        }
      ],
      "source": [
        "sns.distplot(df.Schooling)"
      ],
      "id": "02a0e461"
    },
    {
      "cell_type": "code",
      "execution_count": null,
      "metadata": {
        "colab": {
          "base_uri": "https://localhost:8080/"
        },
        "id": "fcff36f9",
        "outputId": "b0cde080-3e56-418e-ea86-475d23629dc1"
      },
      "outputs": [
        {
          "output_type": "stream",
          "name": "stdout",
          "text": [
            "Pearsons Correlation: 0.713\n"
          ]
        }
      ],
      "source": [
        "corr,_ = pearsonr(df.Schooling, df.Life_expectancy)\n",
        "print('Pearsons Correlation: %.3f'%corr)"
      ],
      "id": "fcff36f9"
    },
    {
      "cell_type": "markdown",
      "metadata": {
        "id": "a21ec72c"
      },
      "source": [
        "Positive Correlation between Schooling and Life expectancy"
      ],
      "id": "a21ec72c"
    },
    {
      "cell_type": "markdown",
      "metadata": {
        "id": "c50908a6"
      },
      "source": [
        "## Positive Correlation means Increase in the predictor value will also result in increase in the target variable"
      ],
      "id": "c50908a6"
    },
    {
      "cell_type": "markdown",
      "metadata": {
        "id": "bc782841"
      },
      "source": [
        "## Outliers are being neglectec as i made a model with outlier treatment and it failed to i learned that this is an accurate data and many countries can have a lot of things higher compared to others"
      ],
      "id": "bc782841"
    },
    {
      "cell_type": "code",
      "source": [],
      "metadata": {
        "id": "dSacb1BMsur2"
      },
      "id": "dSacb1BMsur2",
      "execution_count": null,
      "outputs": []
    },
    {
      "cell_type": "markdown",
      "metadata": {
        "id": "132b26aa"
      },
      "source": [
        "# Model Building"
      ],
      "id": "132b26aa"
    },
    {
      "cell_type": "code",
      "execution_count": null,
      "metadata": {
        "colab": {
          "base_uri": "https://localhost:8080/"
        },
        "id": "8986d2b2",
        "outputId": "979af0e0-5bfd-4c32-d6fd-16eaaf3a0f65"
      },
      "outputs": [
        {
          "output_type": "stream",
          "name": "stdout",
          "text": [
            "<class 'pandas.core.frame.DataFrame'>\n",
            "RangeIndex: 2938 entries, 0 to 2937\n",
            "Data columns (total 22 columns):\n",
            " #   Column                           Non-Null Count  Dtype  \n",
            "---  ------                           --------------  -----  \n",
            " 0   Country                          2938 non-null   object \n",
            " 1   year                             2938 non-null   int64  \n",
            " 2   Status                           2938 non-null   int64  \n",
            " 3   Life_expectancy                  2938 non-null   float64\n",
            " 4   adult_mortality                  2938 non-null   float64\n",
            " 5   infant_deaths                    2938 non-null   int64  \n",
            " 6   Alcohol                          2938 non-null   float64\n",
            " 7   percentage_expenditure           2938 non-null   float64\n",
            " 8   hepatitis_b                      2938 non-null   float64\n",
            " 9   Measles                          2938 non-null   int64  \n",
            " 10  bmi                              2938 non-null   float64\n",
            " 11  under_five_deaths                2938 non-null   int64  \n",
            " 12  Polio                            2938 non-null   float64\n",
            " 13  total_expenditure                2938 non-null   float64\n",
            " 14  diphtheria                       2938 non-null   float64\n",
            " 15  hiv_aids                         2938 non-null   float64\n",
            " 16  GDP                              2938 non-null   float64\n",
            " 17  Population                       2938 non-null   float64\n",
            " 18  thinness_1_19_years              2938 non-null   float64\n",
            " 19  thinness_5_9_years               2938 non-null   float64\n",
            " 20  income_composition_of_resources  2938 non-null   float64\n",
            " 21  Schooling                        2938 non-null   float64\n",
            "dtypes: float64(16), int64(5), object(1)\n",
            "memory usage: 505.1+ KB\n"
          ]
        }
      ],
      "source": [
        "df.info()"
      ],
      "id": "8986d2b2"
    },
    {
      "cell_type": "code",
      "execution_count": null,
      "metadata": {
        "id": "fb953e0c"
      },
      "outputs": [],
      "source": [
        "df.drop('Country', axis = 1, inplace = True)\n",
        "\n",
        "# dropping country coz name of a country wont make any difference in the life expectancy"
      ],
      "id": "fb953e0c"
    },
    {
      "cell_type": "code",
      "execution_count": null,
      "metadata": {
        "colab": {
          "base_uri": "https://localhost:8080/"
        },
        "id": "846bfc6a",
        "outputId": "8935a6c5-b147-4bbb-83e1-3ab0457c79b2"
      },
      "outputs": [
        {
          "output_type": "stream",
          "name": "stdout",
          "text": [
            "<class 'pandas.core.frame.DataFrame'>\n",
            "RangeIndex: 2938 entries, 0 to 2937\n",
            "Data columns (total 21 columns):\n",
            " #   Column                           Non-Null Count  Dtype  \n",
            "---  ------                           --------------  -----  \n",
            " 0   year                             2938 non-null   int64  \n",
            " 1   Status                           2938 non-null   int64  \n",
            " 2   Life_expectancy                  2938 non-null   float64\n",
            " 3   adult_mortality                  2938 non-null   float64\n",
            " 4   infant_deaths                    2938 non-null   int64  \n",
            " 5   Alcohol                          2938 non-null   float64\n",
            " 6   percentage_expenditure           2938 non-null   float64\n",
            " 7   hepatitis_b                      2938 non-null   float64\n",
            " 8   Measles                          2938 non-null   int64  \n",
            " 9   bmi                              2938 non-null   float64\n",
            " 10  under_five_deaths                2938 non-null   int64  \n",
            " 11  Polio                            2938 non-null   float64\n",
            " 12  total_expenditure                2938 non-null   float64\n",
            " 13  diphtheria                       2938 non-null   float64\n",
            " 14  hiv_aids                         2938 non-null   float64\n",
            " 15  GDP                              2938 non-null   float64\n",
            " 16  Population                       2938 non-null   float64\n",
            " 17  thinness_1_19_years              2938 non-null   float64\n",
            " 18  thinness_5_9_years               2938 non-null   float64\n",
            " 19  income_composition_of_resources  2938 non-null   float64\n",
            " 20  Schooling                        2938 non-null   float64\n",
            "dtypes: float64(16), int64(5)\n",
            "memory usage: 482.1 KB\n"
          ]
        }
      ],
      "source": [
        "df.info()"
      ],
      "id": "846bfc6a"
    },
    {
      "cell_type": "markdown",
      "metadata": {
        "id": "0bc6ea20"
      },
      "source": [
        "As there is very high correlation in under_five_deaths and Infant deaths\n",
        "As there is very high correlation in thinnes 5-9 and thinness 1-19\n",
        "hence we will remove Under 5 and Thinnes 5-9"
      ],
      "id": "0bc6ea20"
    },
    {
      "cell_type": "code",
      "execution_count": null,
      "metadata": {
        "id": "5410c10e"
      },
      "outputs": [],
      "source": [
        "df.drop(columns=['under_five_deaths','thinness_5_9_years'],axis =1, inplace=True)"
      ],
      "id": "5410c10e"
    },
    {
      "cell_type": "code",
      "execution_count": null,
      "metadata": {
        "id": "6e831b7d"
      },
      "outputs": [],
      "source": [
        "df.to_csv(r'D:\\who_new.csv', index=False)"
      ],
      "id": "6e831b7d"
    },
    {
      "cell_type": "code",
      "execution_count": null,
      "metadata": {
        "colab": {
          "base_uri": "https://localhost:8080/"
        },
        "id": "63f7547f",
        "outputId": "c79190f5-563c-45a7-cb52-4483df86b691"
      },
      "outputs": [
        {
          "output_type": "stream",
          "name": "stdout",
          "text": [
            "<class 'pandas.core.frame.DataFrame'>\n",
            "RangeIndex: 2938 entries, 0 to 2937\n",
            "Data columns (total 18 columns):\n",
            " #   Column                           Non-Null Count  Dtype  \n",
            "---  ------                           --------------  -----  \n",
            " 0   year                             2938 non-null   int64  \n",
            " 1   Status                           2938 non-null   int64  \n",
            " 2   adult_mortality                  2938 non-null   float64\n",
            " 3   infant_deaths                    2938 non-null   int64  \n",
            " 4   Alcohol                          2938 non-null   float64\n",
            " 5   percentage_expenditure           2938 non-null   float64\n",
            " 6   hepatitis_b                      2938 non-null   float64\n",
            " 7   Measles                          2938 non-null   int64  \n",
            " 8   bmi                              2938 non-null   float64\n",
            " 9   Polio                            2938 non-null   float64\n",
            " 10  total_expenditure                2938 non-null   float64\n",
            " 11  diphtheria                       2938 non-null   float64\n",
            " 12  hiv_aids                         2938 non-null   float64\n",
            " 13  GDP                              2938 non-null   float64\n",
            " 14  Population                       2938 non-null   float64\n",
            " 15  thinness_1_19_years              2938 non-null   float64\n",
            " 16  income_composition_of_resources  2938 non-null   float64\n",
            " 17  Schooling                        2938 non-null   float64\n",
            "dtypes: float64(14), int64(4)\n",
            "memory usage: 413.3 KB\n"
          ]
        }
      ],
      "source": [
        "x = df.loc[:, df.columns != 'Life_expectancy']\n",
        "x.info()"
      ],
      "id": "63f7547f"
    },
    {
      "cell_type": "code",
      "execution_count": null,
      "metadata": {
        "colab": {
          "base_uri": "https://localhost:8080/"
        },
        "id": "e7ab060f",
        "outputId": "a7d1f51f-d5dd-4ac6-9953-1bd60d49a0fc"
      },
      "outputs": [
        {
          "output_type": "execute_result",
          "data": {
            "text/plain": [
              "0    65.0\n",
              "1    59.9\n",
              "2    59.9\n",
              "3    59.5\n",
              "4    59.2\n",
              "Name: Life_expectancy, dtype: float64"
            ]
          },
          "metadata": {},
          "execution_count": 116
        }
      ],
      "source": [
        "y = df.Life_expectancy\n",
        "y.head()"
      ],
      "id": "e7ab060f"
    },
    {
      "cell_type": "code",
      "execution_count": null,
      "metadata": {
        "id": "b87e84b6"
      },
      "outputs": [],
      "source": [
        "xtrain, xtest, ytrain, ytest = train_test_split(x,y, test_size=0.20, random_state=0)"
      ],
      "id": "b87e84b6"
    },
    {
      "cell_type": "code",
      "execution_count": null,
      "metadata": {
        "id": "b13c6321"
      },
      "outputs": [],
      "source": [
        "sc_x = StandardScaler()\n",
        "xtrain = sc_x.fit_transform(xtrain)\n",
        "xtest = sc_x.transform(xtest)"
      ],
      "id": "b13c6321"
    },
    {
      "cell_type": "code",
      "execution_count": null,
      "metadata": {
        "colab": {
          "base_uri": "https://localhost:8080/"
        },
        "id": "f55150db",
        "outputId": "4c11b4ac-2429-4c08-f436-a9082c50ce14"
      },
      "outputs": [
        {
          "output_type": "execute_result",
          "data": {
            "text/plain": [
              "(2350, 18)"
            ]
          },
          "metadata": {},
          "execution_count": 119
        }
      ],
      "source": [
        "xtrain.shape"
      ],
      "id": "f55150db"
    },
    {
      "cell_type": "code",
      "execution_count": null,
      "metadata": {
        "colab": {
          "base_uri": "https://localhost:8080/"
        },
        "id": "121302ca",
        "outputId": "0159bf00-51e8-4ece-a642-c9b68fd3a456"
      },
      "outputs": [
        {
          "output_type": "execute_result",
          "data": {
            "text/plain": [
              "(588, 18)"
            ]
          },
          "metadata": {},
          "execution_count": 120
        }
      ],
      "source": [
        "xtest.shape"
      ],
      "id": "121302ca"
    },
    {
      "cell_type": "code",
      "execution_count": null,
      "metadata": {
        "colab": {
          "base_uri": "https://localhost:8080/"
        },
        "id": "0bfdd9f3",
        "outputId": "3232efb7-4233-48b3-85af-1732ebe2795d"
      },
      "outputs": [
        {
          "output_type": "execute_result",
          "data": {
            "text/plain": [
              "(2350,)"
            ]
          },
          "metadata": {},
          "execution_count": 121
        }
      ],
      "source": [
        "ytrain.shape"
      ],
      "id": "0bfdd9f3"
    },
    {
      "cell_type": "code",
      "execution_count": null,
      "metadata": {
        "colab": {
          "base_uri": "https://localhost:8080/"
        },
        "id": "7c0adfe1",
        "outputId": "493e19df-52b0-4b65-e2f1-1923080b71b0"
      },
      "outputs": [
        {
          "output_type": "execute_result",
          "data": {
            "text/plain": [
              "(588,)"
            ]
          },
          "metadata": {},
          "execution_count": 122
        }
      ],
      "source": [
        "ytest.shape"
      ],
      "id": "7c0adfe1"
    },
    {
      "cell_type": "code",
      "execution_count": null,
      "metadata": {
        "colab": {
          "base_uri": "https://localhost:8080/"
        },
        "id": "7a4ea7ba",
        "outputId": "10ccf5d8-f133-4af7-e968-bb28fdc39099"
      },
      "outputs": [
        {
          "output_type": "stream",
          "name": "stdout",
          "text": [
            "R-Square:  0.8088716826337989\n"
          ]
        }
      ],
      "source": [
        "sgdr = SGDRegressor()\n",
        "sgdr.fit(xtrain,ytrain)\n",
        "score = sgdr.score(xtrain, ytrain)\n",
        "print('R-Square: ', score)"
      ],
      "id": "7a4ea7ba"
    },
    {
      "cell_type": "code",
      "execution_count": null,
      "metadata": {
        "colab": {
          "base_uri": "https://localhost:8080/"
        },
        "id": "af8aec15",
        "outputId": "cd8e72f6-de9c-4efd-c48c-3ad042e476e7"
      },
      "outputs": [
        {
          "output_type": "stream",
          "name": "stdout",
          "text": [
            "MSE:  17.116679005670772\n",
            "RMSE:  4.1372308378516625\n"
          ]
        }
      ],
      "source": [
        "y_pred = sgdr.predict(xtest)\n",
        "mse = mean_squared_error(ytest, y_pred)\n",
        "print('MSE: ', mse)\n",
        "print('RMSE: ', np.sqrt(mse))"
      ],
      "id": "af8aec15"
    },
    {
      "cell_type": "code",
      "source": [
        "\n",
        "plt.show()"
      ],
      "metadata": {
        "id": "HBqvZ0q0iXzJ"
      },
      "id": "HBqvZ0q0iXzJ",
      "execution_count": null,
      "outputs": []
    },
    {
      "cell_type": "code",
      "execution_count": null,
      "metadata": {
        "colab": {
          "base_uri": "https://localhost:8080/",
          "height": 472
        },
        "id": "41d3108f",
        "outputId": "2429c503-e37a-4e0b-c0de-68ac173b3cde"
      },
      "outputs": [
        {
          "output_type": "display_data",
          "data": {
            "text/plain": [
              "<Figure size 640x480 with 1 Axes>"
            ],
            "image/png": "[encoded data removed]"
          },
          "metadata": {}
        }
      ],
      "source": [
        "\n",
        "x_ticks = [40,50,60,70,80,90,100]\n",
        "y_ticks = [40,50,60,70,80,90,100]\n",
        "\n",
        "xval = [40, 100]\n",
        "yval = [40, 100]\n",
        "plt.plot(xval,yval, 'r--',linewidth=3)\n",
        "plt.scatter(ytest,y_pred)\n",
        "plt.xticks(x_ticks)\n",
        "plt.yticks(y_ticks)\n",
        "plt.xlabel('Test result')\n",
        "plt.ylabel('Predicted result')\n",
        "plt.title(\"Linear regression Model\")\n",
        "plt.show()"
      ],
      "id": "41d3108f"
    },
    {
      "cell_type": "markdown",
      "source": [
        "## Implementing using Lasso and Ridge regression to improve Generalization"
      ],
      "metadata": {
        "id": "MOTTVIfvkrsv"
      },
      "id": "MOTTVIfvkrsv"
    },
    {
      "cell_type": "code",
      "source": [
        "from sklearn.linear_model import Lasso,Ridge\n",
        "from sklearn.model_selection import GridSearchCV\n",
        "\n",
        "model=Lasso()\n",
        "alpha_value={'alpha':[1,0.1,0.01,0.001,0.0001]}\n",
        "\n",
        "grid=GridSearchCV(estimator=model,param_grid=alpha_value)\n",
        "grid.fit(x,y)\n",
        "\n",
        "print(grid.best_score_)\n",
        "print(grid.best_estimator_.alpha)\n",
        "print(grid.best_params_)"
      ],
      "metadata": {
        "colab": {
          "base_uri": "https://localhost:8080/"
        },
        "id": "I4wAjtL4jQ5X",
        "outputId": "f71b57ca-90de-4d41-e6ae-d1149e00074c"
      },
      "id": "I4wAjtL4jQ5X",
      "execution_count": null,
      "outputs": [
        {
          "output_type": "stream",
          "name": "stdout",
          "text": [
            "0.7823322198180147\n",
            "0.001\n",
            "{'alpha': 0.001}\n"
          ]
        }
      ]
    },
    {
      "cell_type": "code",
      "source": [
        "ls=Lasso(alpha=0.01)\n",
        "\n",
        "ls.fit(xtrain,ytrain)\n",
        "print('Lasso score: ',ls.score(xtrain,ytrain))\n",
        "lspred=ls.predict(xtest)\n",
        "print('Mean Squared Error : ',mean_squared_error(ytest,lspred))\n",
        "print('Root Mean squared Error : ',np.sqrt(mean_squared_error(ytest,lspred)))"
      ],
      "metadata": {
        "colab": {
          "base_uri": "https://localhost:8080/"
        },
        "id": "Nuf66LQ1jUc-",
        "outputId": "d4106fa4-8cef-4187-fc97-63f306b6ca13"
      },
      "id": "Nuf66LQ1jUc-",
      "execution_count": null,
      "outputs": [
        {
          "output_type": "stream",
          "name": "stdout",
          "text": [
            "Lasso score:  0.8097733899662822\n",
            "Mean Squared Error :  17.169539671688096\n",
            "Root Mean squared Error :  4.143614324679373\n"
          ]
        }
      ]
    },
    {
      "cell_type": "code",
      "source": [
        "model=Ridge()\n",
        "\n",
        "alphavalue={'alpha':[1,0.1,0.01,0.001,0.0001]}\n",
        "\n",
        "grid=GridSearchCV(estimator=model,param_grid=alphavalue)\n",
        "grid.fit(x,y)\n",
        "\n",
        "print(grid.best_score_)\n",
        "print(grid.best_estimator_.alpha)\n",
        "print(grid.best_params_)"
      ],
      "metadata": {
        "colab": {
          "base_uri": "https://localhost:8080/"
        },
        "id": "aVxKpksNkWN4",
        "outputId": "06f27f26-37bf-4208-805c-30841873d6a8"
      },
      "id": "aVxKpksNkWN4",
      "execution_count": null,
      "outputs": [
        {
          "output_type": "stream",
          "name": "stdout",
          "text": [
            "0.7823659669524078\n",
            "1\n",
            "{'alpha': 1}\n"
          ]
        }
      ]
    },
    {
      "cell_type": "code",
      "source": [
        "rg=Ridge(alpha=1)\n",
        "\n",
        "rg.fit(xtrain,ytrain)\n",
        "print('Ridge Score: ',rg.score(xtrain,ytrain))\n",
        "rgpred=rg.predict(xtest)\n",
        "print('Mean Squared Error : ',mean_squared_error(ytest,rgpred))\n",
        "print('Root Mean squared error: ',np.sqrt(mean_squared_error(ytest,rgpred)))\n"
      ],
      "metadata": {
        "colab": {
          "base_uri": "https://localhost:8080/"
        },
        "id": "ANU4OzvKkWlG",
        "outputId": "857edcaf-18b4-4d1b-8e8f-01a93e5302ba"
      },
      "id": "ANU4OzvKkWlG",
      "execution_count": null,
      "outputs": [
        {
          "output_type": "stream",
          "name": "stdout",
          "text": [
            "Ridge Score:  0.8097865529467189\n",
            "Mean Squared Error :  17.18018411244336\n",
            "Root Mean squared error:  4.144898564795447\n"
          ]
        }
      ]
    },
    {
      "cell_type": "markdown",
      "metadata": {
        "id": "68a1cbf7"
      },
      "source": [
        "### Coefficient Variance"
      ],
      "id": "68a1cbf7"
    },
    {
      "cell_type": "code",
      "execution_count": null,
      "metadata": {
        "colab": {
          "base_uri": "https://localhost:8080/"
        },
        "id": "f3654dc6",
        "outputId": "0bb0e5ea-7f88-47ce-e5e6-2b875fd08d9e"
      },
      "outputs": [
        {
          "output_type": "execute_result",
          "data": {
            "text/plain": [
              "array([-0.11159927, -0.64180397, -2.56157683, -0.17762747,  0.07417227,\n",
              "        0.17242846, -0.54887433, -0.47741593,  1.01744382,  0.79585825,\n",
              "        0.28392454,  1.12577225, -2.60236174,  0.56611774,  0.1497582 ,\n",
              "       -0.29900824,  1.36619916,  2.01727813])"
            ]
          },
          "metadata": {},
          "execution_count": 132
        }
      ],
      "source": [
        "sgdr.coef_"
      ],
      "id": "f3654dc6"
    },
    {
      "cell_type": "markdown",
      "metadata": {
        "id": "tP0sGggeU2ZC"
      },
      "source": [
        "# Neural Networks"
      ],
      "id": "tP0sGggeU2ZC"
    },
    {
      "cell_type": "code",
      "execution_count": null,
      "metadata": {
        "id": "HSJs8u2EU9uO"
      },
      "outputs": [],
      "source": [
        "model = Sequential([\n",
        "    Dense(units = 10, activation = 'relu'),\n",
        "    Dense(units = 1, activation = 'linear')\n",
        "])"
      ],
      "id": "HSJs8u2EU9uO"
    },
    {
      "cell_type": "code",
      "execution_count": null,
      "metadata": {
        "colab": {
          "base_uri": "https://localhost:8080/"
        },
        "id": "mrf5G3dYl0_r",
        "outputId": "db14a2db-ac30-4ebc-9485-90a9c308dcc8"
      },
      "outputs": [
        {
          "output_type": "stream",
          "name": "stdout",
          "text": [
            "Epoch 1/150\n",
            "74/74 [==============================] - 1s 1ms/step - loss: 4114.2515\n",
            "Epoch 2/150\n",
            "74/74 [==============================] - 0s 1ms/step - loss: 1348.6409\n",
            "Epoch 3/150\n",
            "74/74 [==============================] - 0s 1ms/step - loss: 292.2517\n",
            "Epoch 4/150\n",
            "74/74 [==============================] - 0s 1ms/step - loss: 180.8872\n",
            "Epoch 5/150\n",
            "74/74 [==============================] - 0s 1ms/step - loss: 144.5640\n",
            "Epoch 6/150\n",
            "74/74 [==============================] - 0s 1ms/step - loss: 123.4306\n",
            "Epoch 7/150\n",
            "74/74 [==============================] - 0s 979us/step - loss: 105.6972\n",
            "Epoch 8/150\n",
            "74/74 [==============================] - 0s 1ms/step - loss: 91.6861\n",
            "Epoch 9/150\n",
            "74/74 [==============================] - 0s 1ms/step - loss: 77.6504\n",
            "Epoch 10/150\n",
            "74/74 [==============================] - 0s 988us/step - loss: 64.1603\n",
            "Epoch 11/150\n",
            "74/74 [==============================] - 0s 1ms/step - loss: 51.4137\n",
            "Epoch 12/150\n",
            "74/74 [==============================] - 0s 1ms/step - loss: 41.5550\n",
            "Epoch 13/150\n",
            "74/74 [==============================] - 0s 1ms/step - loss: 34.6534\n",
            "Epoch 14/150\n",
            "74/74 [==============================] - 0s 1ms/step - loss: 29.4179\n",
            "Epoch 15/150\n",
            "74/74 [==============================] - 0s 1ms/step - loss: 25.4921\n",
            "Epoch 16/150\n",
            "74/74 [==============================] - 0s 2ms/step - loss: 23.2564\n",
            "Epoch 17/150\n",
            "74/74 [==============================] - 0s 2ms/step - loss: 20.9008\n",
            "Epoch 18/150\n",
            "74/74 [==============================] - 0s 1ms/step - loss: 19.3278\n",
            "Epoch 19/150\n",
            "74/74 [==============================] - 0s 2ms/step - loss: 17.9440\n",
            "Epoch 20/150\n",
            "74/74 [==============================] - 0s 2ms/step - loss: 17.1558\n",
            "Epoch 21/150\n",
            "74/74 [==============================] - 0s 2ms/step - loss: 16.1961\n",
            "Epoch 22/150\n",
            "74/74 [==============================] - 0s 2ms/step - loss: 15.4960\n",
            "Epoch 23/150\n",
            "74/74 [==============================] - 0s 2ms/step - loss: 15.0632\n",
            "Epoch 24/150\n",
            "74/74 [==============================] - 0s 1ms/step - loss: 14.3405\n",
            "Epoch 25/150\n",
            "74/74 [==============================] - 0s 2ms/step - loss: 13.9863\n",
            "Epoch 26/150\n",
            "74/74 [==============================] - 0s 1ms/step - loss: 13.7440\n",
            "Epoch 27/150\n",
            "74/74 [==============================] - 0s 1ms/step - loss: 13.4216\n",
            "Epoch 28/150\n",
            "74/74 [==============================] - 0s 1ms/step - loss: 13.1744\n",
            "Epoch 29/150\n",
            "74/74 [==============================] - 0s 1ms/step - loss: 13.2529\n",
            "Epoch 30/150\n",
            "74/74 [==============================] - 0s 2ms/step - loss: 12.7477\n",
            "Epoch 31/150\n",
            "74/74 [==============================] - 0s 2ms/step - loss: 12.6791\n",
            "Epoch 32/150\n",
            "74/74 [==============================] - 0s 1ms/step - loss: 12.6989\n",
            "Epoch 33/150\n",
            "74/74 [==============================] - 0s 2ms/step - loss: 12.6081\n",
            "Epoch 34/150\n",
            "74/74 [==============================] - 0s 2ms/step - loss: 12.2762\n",
            "Epoch 35/150\n",
            "74/74 [==============================] - 0s 1ms/step - loss: 12.1848\n",
            "Epoch 36/150\n",
            "74/74 [==============================] - 0s 1ms/step - loss: 12.0631\n",
            "Epoch 37/150\n",
            "74/74 [==============================] - 0s 2ms/step - loss: 11.8776\n",
            "Epoch 38/150\n",
            "74/74 [==============================] - 0s 2ms/step - loss: 11.8306\n",
            "Epoch 39/150\n",
            "74/74 [==============================] - 0s 1ms/step - loss: 11.8296\n",
            "Epoch 40/150\n",
            "74/74 [==============================] - 0s 1ms/step - loss: 11.4578\n",
            "Epoch 41/150\n",
            "74/74 [==============================] - 0s 1ms/step - loss: 11.4118\n",
            "Epoch 42/150\n",
            "74/74 [==============================] - 0s 1ms/step - loss: 11.2657\n",
            "Epoch 43/150\n",
            "74/74 [==============================] - 0s 1ms/step - loss: 10.9825\n",
            "Epoch 44/150\n",
            "74/74 [==============================] - 0s 2ms/step - loss: 11.2641\n",
            "Epoch 45/150\n",
            "74/74 [==============================] - 0s 1ms/step - loss: 11.1426\n",
            "Epoch 46/150\n",
            "74/74 [==============================] - 0s 2ms/step - loss: 10.9797\n",
            "Epoch 47/150\n",
            "74/74 [==============================] - 0s 2ms/step - loss: 11.6972\n",
            "Epoch 48/150\n",
            "74/74 [==============================] - 0s 1ms/step - loss: 10.8460\n",
            "Epoch 49/150\n",
            "74/74 [==============================] - 0s 1ms/step - loss: 11.0141\n",
            "Epoch 50/150\n",
            "74/74 [==============================] - 0s 1ms/step - loss: 10.7118\n",
            "Epoch 51/150\n",
            "74/74 [==============================] - 0s 1ms/step - loss: 10.7847\n",
            "Epoch 52/150\n",
            "74/74 [==============================] - 0s 1ms/step - loss: 10.7098\n",
            "Epoch 53/150\n",
            "74/74 [==============================] - 0s 1ms/step - loss: 10.6539\n",
            "Epoch 54/150\n",
            "74/74 [==============================] - 0s 1ms/step - loss: 10.9201\n",
            "Epoch 55/150\n",
            "74/74 [==============================] - 0s 1ms/step - loss: 10.5472\n",
            "Epoch 56/150\n",
            "74/74 [==============================] - 0s 1ms/step - loss: 10.7226\n",
            "Epoch 57/150\n",
            "74/74 [==============================] - 0s 1ms/step - loss: 10.8010\n",
            "Epoch 58/150\n",
            "74/74 [==============================] - 0s 2ms/step - loss: 10.6419\n",
            "Epoch 59/150\n",
            "74/74 [==============================] - 0s 2ms/step - loss: 10.3535\n",
            "Epoch 60/150\n",
            "74/74 [==============================] - 0s 1ms/step - loss: 10.3820\n",
            "Epoch 61/150\n",
            "74/74 [==============================] - 0s 1ms/step - loss: 10.5595\n",
            "Epoch 62/150\n",
            "74/74 [==============================] - 0s 1ms/step - loss: 10.7416\n",
            "Epoch 63/150\n",
            "74/74 [==============================] - 0s 1ms/step - loss: 10.5124\n",
            "Epoch 64/150\n",
            "74/74 [==============================] - 0s 999us/step - loss: 10.1216\n",
            "Epoch 65/150\n",
            "74/74 [==============================] - 0s 1ms/step - loss: 10.3806\n",
            "Epoch 66/150\n",
            "74/74 [==============================] - 0s 1ms/step - loss: 10.0611\n",
            "Epoch 67/150\n",
            "74/74 [==============================] - 0s 1ms/step - loss: 10.0630\n",
            "Epoch 68/150\n",
            "74/74 [==============================] - 0s 1ms/step - loss: 10.1706\n",
            "Epoch 69/150\n",
            "74/74 [==============================] - 0s 1ms/step - loss: 10.1920\n",
            "Epoch 70/150\n",
            "74/74 [==============================] - 0s 1ms/step - loss: 9.9911\n",
            "Epoch 71/150\n",
            "74/74 [==============================] - 0s 1ms/step - loss: 10.0883\n",
            "Epoch 72/150\n",
            "74/74 [==============================] - 0s 928us/step - loss: 9.9512\n",
            "Epoch 73/150\n",
            "74/74 [==============================] - 0s 1ms/step - loss: 10.0551\n",
            "Epoch 74/150\n",
            "74/74 [==============================] - 0s 1ms/step - loss: 10.2163\n",
            "Epoch 75/150\n",
            "74/74 [==============================] - 0s 1ms/step - loss: 9.7572\n",
            "Epoch 76/150\n",
            "74/74 [==============================] - 0s 931us/step - loss: 9.9895\n",
            "Epoch 77/150\n",
            "74/74 [==============================] - 0s 1ms/step - loss: 9.6342\n",
            "Epoch 78/150\n",
            "74/74 [==============================] - 0s 1ms/step - loss: 10.2235\n",
            "Epoch 79/150\n",
            "74/74 [==============================] - 0s 948us/step - loss: 10.2586\n",
            "Epoch 80/150\n",
            "74/74 [==============================] - 0s 1ms/step - loss: 10.0001\n",
            "Epoch 81/150\n",
            "74/74 [==============================] - 0s 1ms/step - loss: 9.8130\n",
            "Epoch 82/150\n",
            "74/74 [==============================] - 0s 982us/step - loss: 9.5724\n",
            "Epoch 83/150\n",
            "74/74 [==============================] - 0s 924us/step - loss: 9.7228\n",
            "Epoch 84/150\n",
            "74/74 [==============================] - 0s 1ms/step - loss: 9.5729\n",
            "Epoch 85/150\n",
            "74/74 [==============================] - 0s 1ms/step - loss: 9.7179\n",
            "Epoch 86/150\n",
            "74/74 [==============================] - 0s 1ms/step - loss: 9.6611\n",
            "Epoch 87/150\n",
            "74/74 [==============================] - 0s 1ms/step - loss: 9.6008\n",
            "Epoch 88/150\n",
            "74/74 [==============================] - 0s 1ms/step - loss: 9.5113\n",
            "Epoch 89/150\n",
            "74/74 [==============================] - 0s 1ms/step - loss: 9.3052\n",
            "Epoch 90/150\n",
            "74/74 [==============================] - 0s 1ms/step - loss: 9.7226\n",
            "Epoch 91/150\n",
            "74/74 [==============================] - 0s 1ms/step - loss: 9.7510\n",
            "Epoch 92/150\n",
            "74/74 [==============================] - 0s 1ms/step - loss: 9.3864\n",
            "Epoch 93/150\n",
            "74/74 [==============================] - 0s 923us/step - loss: 9.2508\n",
            "Epoch 94/150\n",
            "74/74 [==============================] - 0s 1ms/step - loss: 9.2029\n",
            "Epoch 95/150\n",
            "74/74 [==============================] - 0s 1ms/step - loss: 9.5106\n",
            "Epoch 96/150\n",
            "74/74 [==============================] - 0s 1ms/step - loss: 9.2143\n",
            "Epoch 97/150\n",
            "74/74 [==============================] - 0s 982us/step - loss: 9.1475\n",
            "Epoch 98/150\n",
            "74/74 [==============================] - 0s 1ms/step - loss: 9.1559\n",
            "Epoch 99/150\n",
            "74/74 [==============================] - 0s 1ms/step - loss: 9.4339\n",
            "Epoch 100/150\n",
            "74/74 [==============================] - 0s 1ms/step - loss: 9.3516\n",
            "Epoch 101/150\n",
            "74/74 [==============================] - 0s 1ms/step - loss: 9.1249\n",
            "Epoch 102/150\n",
            "74/74 [==============================] - 0s 1ms/step - loss: 9.4340\n",
            "Epoch 103/150\n",
            "74/74 [==============================] - 0s 1ms/step - loss: 9.0650\n",
            "Epoch 104/150\n",
            "74/74 [==============================] - 0s 1ms/step - loss: 9.3625\n",
            "Epoch 105/150\n",
            "74/74 [==============================] - 0s 1ms/step - loss: 9.2447\n",
            "Epoch 106/150\n",
            "74/74 [==============================] - 0s 1ms/step - loss: 9.0230\n",
            "Epoch 107/150\n",
            "74/74 [==============================] - 0s 994us/step - loss: 9.8437\n",
            "Epoch 108/150\n",
            "74/74 [==============================] - 0s 1ms/step - loss: 9.3956\n",
            "Epoch 109/150\n",
            "74/74 [==============================] - 0s 1ms/step - loss: 9.1578\n",
            "Epoch 110/150\n",
            "74/74 [==============================] - 0s 1ms/step - loss: 8.9686\n",
            "Epoch 111/150\n",
            "74/74 [==============================] - 0s 1ms/step - loss: 9.2893\n",
            "Epoch 112/150\n",
            "74/74 [==============================] - 0s 969us/step - loss: 8.9117\n",
            "Epoch 113/150\n",
            "74/74 [==============================] - 0s 1ms/step - loss: 8.9894\n",
            "Epoch 114/150\n",
            "74/74 [==============================] - 0s 1ms/step - loss: 8.9656\n",
            "Epoch 115/150\n",
            "74/74 [==============================] - 0s 1ms/step - loss: 8.9731\n",
            "Epoch 116/150\n",
            "74/74 [==============================] - 0s 1ms/step - loss: 9.0640\n",
            "Epoch 117/150\n",
            "74/74 [==============================] - 0s 1ms/step - loss: 8.9626\n",
            "Epoch 118/150\n",
            "74/74 [==============================] - 0s 987us/step - loss: 9.2556\n",
            "Epoch 119/150\n",
            "74/74 [==============================] - 0s 1ms/step - loss: 9.0912\n",
            "Epoch 120/150\n",
            "74/74 [==============================] - 0s 2ms/step - loss: 9.1079\n",
            "Epoch 121/150\n",
            "74/74 [==============================] - 0s 2ms/step - loss: 9.2168\n",
            "Epoch 122/150\n",
            "74/74 [==============================] - 0s 1ms/step - loss: 9.0456\n",
            "Epoch 123/150\n",
            "74/74 [==============================] - 0s 1ms/step - loss: 8.6022\n",
            "Epoch 124/150\n",
            "74/74 [==============================] - 0s 2ms/step - loss: 9.0241\n",
            "Epoch 125/150\n",
            "74/74 [==============================] - 0s 1ms/step - loss: 9.2192\n",
            "Epoch 126/150\n",
            "74/74 [==============================] - 0s 1ms/step - loss: 8.9889\n",
            "Epoch 127/150\n",
            "74/74 [==============================] - 0s 1ms/step - loss: 8.8218\n",
            "Epoch 128/150\n",
            "74/74 [==============================] - 0s 1ms/step - loss: 9.3003\n",
            "Epoch 129/150\n",
            "74/74 [==============================] - 0s 1ms/step - loss: 8.7373\n",
            "Epoch 130/150\n",
            "74/74 [==============================] - 0s 1ms/step - loss: 9.1113\n",
            "Epoch 131/150\n",
            "74/74 [==============================] - 0s 1ms/step - loss: 9.1266\n",
            "Epoch 132/150\n",
            "74/74 [==============================] - 0s 997us/step - loss: 8.9148\n",
            "Epoch 133/150\n",
            "74/74 [==============================] - 0s 1ms/step - loss: 8.7470\n",
            "Epoch 134/150\n",
            "74/74 [==============================] - 0s 1ms/step - loss: 8.7215\n",
            "Epoch 135/150\n",
            "74/74 [==============================] - 0s 1ms/step - loss: 8.7556\n",
            "Epoch 136/150\n",
            "74/74 [==============================] - 0s 1ms/step - loss: 8.7173\n",
            "Epoch 137/150\n",
            "74/74 [==============================] - 0s 1ms/step - loss: 8.9143\n",
            "Epoch 138/150\n",
            "74/74 [==============================] - 0s 1ms/step - loss: 9.0413\n",
            "Epoch 139/150\n",
            "74/74 [==============================] - 0s 1ms/step - loss: 9.0942\n",
            "Epoch 140/150\n",
            "74/74 [==============================] - 0s 1ms/step - loss: 8.8613\n",
            "Epoch 141/150\n",
            "74/74 [==============================] - 0s 1ms/step - loss: 8.7896\n",
            "Epoch 142/150\n",
            "74/74 [==============================] - 0s 1ms/step - loss: 8.6628\n",
            "Epoch 143/150\n",
            "74/74 [==============================] - 0s 1ms/step - loss: 8.6869\n",
            "Epoch 144/150\n",
            "74/74 [==============================] - 0s 1ms/step - loss: 8.6453\n",
            "Epoch 145/150\n",
            "74/74 [==============================] - 0s 1ms/step - loss: 9.2040\n",
            "Epoch 146/150\n",
            "74/74 [==============================] - 0s 1ms/step - loss: 8.7831\n",
            "Epoch 147/150\n",
            "74/74 [==============================] - 0s 1ms/step - loss: 9.0882\n",
            "Epoch 148/150\n",
            "74/74 [==============================] - 0s 1ms/step - loss: 8.7230\n",
            "Epoch 149/150\n",
            "74/74 [==============================] - 0s 999us/step - loss: 8.9071\n",
            "Epoch 150/150\n",
            "74/74 [==============================] - 0s 1ms/step - loss: 8.8667\n"
          ]
        },
        {
          "output_type": "execute_result",
          "data": {
            "text/plain": [
              "<keras.callbacks.History at 0x7f12de27aa70>"
            ]
          },
          "metadata": {},
          "execution_count": 134
        }
      ],
      "source": [
        "from keras.losses import MeanSquaredError\n",
        "model.compile(\n",
        "    loss=MeanSquaredError(),\n",
        "    optimizer=tf.keras.optimizers.Adam(0.01),\n",
        ")\n",
        "\n",
        "model.fit(\n",
        "    xtrain,ytrain,\n",
        "    epochs=150\n",
        ")"
      ],
      "id": "mrf5G3dYl0_r"
    },
    {
      "cell_type": "code",
      "source": [
        "mse = tf.keras.losses.MeanSquaredError()\n",
        "print(mse)"
      ],
      "metadata": {
        "colab": {
          "base_uri": "https://localhost:8080/"
        },
        "id": "xXl6Gc3NwsBC",
        "outputId": "ee6ae87b-21a6-4882-be56-94d6b851949f"
      },
      "id": "xXl6Gc3NwsBC",
      "execution_count": null,
      "outputs": [
        {
          "output_type": "stream",
          "name": "stdout",
          "text": [
            "<keras.losses.MeanSquaredError object at 0x7f12ddff6cb0>\n"
          ]
        }
      ]
    },
    {
      "cell_type": "code",
      "execution_count": null,
      "metadata": {
        "id": "6x1vld43l8WY",
        "colab": {
          "base_uri": "https://localhost:8080/"
        },
        "outputId": "bb14a853-bb70-4570-c2e0-26b5e3722146"
      },
      "outputs": [
        {
          "output_type": "stream",
          "name": "stdout",
          "text": [
            "19/19 [==============================] - 0s 943us/step\n"
          ]
        }
      ],
      "source": [
        "ypred = model.predict(xtest)"
      ],
      "id": "6x1vld43l8WY"
    },
    {
      "cell_type": "code",
      "execution_count": null,
      "metadata": {
        "colab": {
          "base_uri": "https://localhost:8080/"
        },
        "id": "TS9sC7R3l_Q_",
        "outputId": "3882eb42-7028-4f5c-ad64-37af5a3133be"
      },
      "outputs": [
        {
          "output_type": "stream",
          "name": "stdout",
          "text": [
            "0.8783313709638092\n"
          ]
        }
      ],
      "source": [
        "from sklearn.metrics import r2_score\n",
        "r2 = r2_score(ytest,ypred)\n",
        "print(r2)"
      ],
      "id": "TS9sC7R3l_Q_"
    },
    {
      "cell_type": "code",
      "execution_count": null,
      "metadata": {
        "id": "7TCbOn76BSrA",
        "colab": {
          "base_uri": "https://localhost:8080/",
          "height": 480
        },
        "outputId": "952007ee-646a-4cda-9d21-fae6c2d14da0"
      },
      "outputs": [
        {
          "output_type": "execute_result",
          "data": {
            "text/plain": [
              "Text(0, 0.5, 'Accuracy')"
            ]
          },
          "metadata": {},
          "execution_count": 138
        },
        {
          "output_type": "display_data",
          "data": {
            "text/plain": [
              "<Figure size 640x480 with 1 Axes>"
            ],
            "image/png": "[encoded data removed]"
          },
          "metadata": {}
        }
      ],
      "source": [
        "epochs = [50,100,150,200,250]\n",
        "accuracy = [90.06,90.50,91.84,91.5,91.46]\n",
        "plt.plot(epochs,accuracy,marker='o')\n",
        "plt.xlabel(\"Epochs\",size = 20)\n",
        "plt.ylabel(\"Accuracy\",size = 20)"
      ],
      "id": "7TCbOn76BSrA"
    },
    {
      "cell_type": "code",
      "source": [],
      "metadata": {
        "id": "dXyd_0m0kI2c"
      },
      "id": "dXyd_0m0kI2c",
      "execution_count": null,
      "outputs": []
    }
  ],
  "metadata": {
    "colab": {
      "collapsed_sections": [
        "9af9dfa5",
        "98017b17",
        "85385775",
        "3e8a220f",
        "0ca4ad21",
        "2d3b33ac",
        "b5f76daf",
        "825ba758",
        "ac27fad8",
        "caf7810c",
        "1ffbbe8d",
        "a80b1ddf",
        "b76ca13f",
        "fcdcd477",
        "674c5035",
        "9ba46000",
        "8cf8ba73",
        "7cc4df7f",
        "154acaf5",
        "97334788",
        "1892d04a",
        "c777a6b9",
        "804f15d8",
        "27b8bf13",
        "a179188c",
        "4e7fd072",
        "2702f74d",
        "92ef0491",
        "68a1cbf7"
      ],
      "provenance": []
    },
    "kernelspec": {
      "display_name": "Python 3 (ipykernel)",
      "language": "python",
      "name": "python3"
    },
    "language_info": {
      "codemirror_mode": {
        "name": "ipython",
        "version": 3
      },
      "file_extension": ".py",
      "mimetype": "text/x-python",
      "name": "python",
      "nbconvert_exporter": "python",
      "pygments_lexer": "ipython3",
      "version": "3.9.7"
    }
  },
  "nbformat": 4,
  "nbformat_minor": 5
}
